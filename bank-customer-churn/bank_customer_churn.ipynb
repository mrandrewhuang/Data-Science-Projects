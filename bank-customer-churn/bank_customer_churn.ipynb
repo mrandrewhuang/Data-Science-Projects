{
 "cells": [
  {
   "cell_type": "markdown",
   "id": "b2042092-dcc6-4e03-8a36-bf3d2aa87eda",
   "metadata": {},
   "source": [
    "# Project: Bank Customer Churn (Supervised Learning)\n",
    "\n",
    "## Introduction\n",
    "\n",
    "Beta Bank has been losing customers month after month. The bank thinks it'll be cheaper to save existing customers rather than attracting new ones. Using data on its customers' past behavior (including contract termination with the bank), we want to predict whether a customer will leave the bank soon.\n",
    "\n",
    "Our job will be to build a model with the best possible F1 score (that's at least **0.59**). Our target will be using the `Exited` feature from the available dataset, which is categorical, so we'll be executing a classification task. After looking over the data, we'll test several different models to choose the best one."
   ]
  },
  {
   "cell_type": "markdown",
   "id": "9986a49a-5803-4764-9419-bbdbcd9bd784",
   "metadata": {},
   "source": [
    "## Data Overview"
   ]
  },
  {
   "cell_type": "code",
   "execution_count": 1,
   "id": "b1fabe0b-47c0-4e4b-bde7-f8b0b98e68ee",
   "metadata": {},
   "outputs": [],
   "source": [
    "# Load project libraries\n",
    "import pandas as pd\n",
    "from matplotlib import pyplot as plt\n",
    "import seaborn as sns\n",
    "from sklearn.model_selection import train_test_split\n",
    "from sklearn.linear_model import LogisticRegression\n",
    "from sklearn.preprocessing import OrdinalEncoder, StandardScaler\n",
    "from sklearn.tree import DecisionTreeClassifier\n",
    "from sklearn.metrics import accuracy_score, confusion_matrix, f1_score, accuracy_score, roc_curve, roc_auc_score\n",
    "from sklearn.utils import shuffle\n",
    "from sklearn.ensemble import RandomForestClassifier"
   ]
  },
  {
   "cell_type": "code",
   "execution_count": 2,
   "id": "df8b7353-acc5-4901-ab24-a5eeb96d499f",
   "metadata": {},
   "outputs": [],
   "source": [
    "# Import the dataset\n",
    "df_churn = pd.read_csv('datasets/churn.csv')"
   ]
  },
  {
   "cell_type": "code",
   "execution_count": 3,
   "id": "ddfc4629-8d9d-456f-8963-7913458620f4",
   "metadata": {},
   "outputs": [
    {
     "data": {
      "text/html": [
       "<div>\n",
       "<style scoped>\n",
       "    .dataframe tbody tr th:only-of-type {\n",
       "        vertical-align: middle;\n",
       "    }\n",
       "\n",
       "    .dataframe tbody tr th {\n",
       "        vertical-align: top;\n",
       "    }\n",
       "\n",
       "    .dataframe thead th {\n",
       "        text-align: right;\n",
       "    }\n",
       "</style>\n",
       "<table border=\"1\" class=\"dataframe\">\n",
       "  <thead>\n",
       "    <tr style=\"text-align: right;\">\n",
       "      <th></th>\n",
       "      <th>RowNumber</th>\n",
       "      <th>CustomerId</th>\n",
       "      <th>Surname</th>\n",
       "      <th>CreditScore</th>\n",
       "      <th>Geography</th>\n",
       "      <th>Gender</th>\n",
       "      <th>Age</th>\n",
       "      <th>Tenure</th>\n",
       "      <th>Balance</th>\n",
       "      <th>NumOfProducts</th>\n",
       "      <th>HasCrCard</th>\n",
       "      <th>IsActiveMember</th>\n",
       "      <th>EstimatedSalary</th>\n",
       "      <th>Exited</th>\n",
       "    </tr>\n",
       "  </thead>\n",
       "  <tbody>\n",
       "    <tr>\n",
       "      <th>0</th>\n",
       "      <td>1</td>\n",
       "      <td>15634602</td>\n",
       "      <td>Hargrave</td>\n",
       "      <td>619</td>\n",
       "      <td>France</td>\n",
       "      <td>Female</td>\n",
       "      <td>42</td>\n",
       "      <td>2.0</td>\n",
       "      <td>0.00</td>\n",
       "      <td>1</td>\n",
       "      <td>1</td>\n",
       "      <td>1</td>\n",
       "      <td>101348.88</td>\n",
       "      <td>1</td>\n",
       "    </tr>\n",
       "    <tr>\n",
       "      <th>1</th>\n",
       "      <td>2</td>\n",
       "      <td>15647311</td>\n",
       "      <td>Hill</td>\n",
       "      <td>608</td>\n",
       "      <td>Spain</td>\n",
       "      <td>Female</td>\n",
       "      <td>41</td>\n",
       "      <td>1.0</td>\n",
       "      <td>83807.86</td>\n",
       "      <td>1</td>\n",
       "      <td>0</td>\n",
       "      <td>1</td>\n",
       "      <td>112542.58</td>\n",
       "      <td>0</td>\n",
       "    </tr>\n",
       "    <tr>\n",
       "      <th>2</th>\n",
       "      <td>3</td>\n",
       "      <td>15619304</td>\n",
       "      <td>Onio</td>\n",
       "      <td>502</td>\n",
       "      <td>France</td>\n",
       "      <td>Female</td>\n",
       "      <td>42</td>\n",
       "      <td>8.0</td>\n",
       "      <td>159660.80</td>\n",
       "      <td>3</td>\n",
       "      <td>1</td>\n",
       "      <td>0</td>\n",
       "      <td>113931.57</td>\n",
       "      <td>1</td>\n",
       "    </tr>\n",
       "    <tr>\n",
       "      <th>3</th>\n",
       "      <td>4</td>\n",
       "      <td>15701354</td>\n",
       "      <td>Boni</td>\n",
       "      <td>699</td>\n",
       "      <td>France</td>\n",
       "      <td>Female</td>\n",
       "      <td>39</td>\n",
       "      <td>1.0</td>\n",
       "      <td>0.00</td>\n",
       "      <td>2</td>\n",
       "      <td>0</td>\n",
       "      <td>0</td>\n",
       "      <td>93826.63</td>\n",
       "      <td>0</td>\n",
       "    </tr>\n",
       "    <tr>\n",
       "      <th>4</th>\n",
       "      <td>5</td>\n",
       "      <td>15737888</td>\n",
       "      <td>Mitchell</td>\n",
       "      <td>850</td>\n",
       "      <td>Spain</td>\n",
       "      <td>Female</td>\n",
       "      <td>43</td>\n",
       "      <td>2.0</td>\n",
       "      <td>125510.82</td>\n",
       "      <td>1</td>\n",
       "      <td>1</td>\n",
       "      <td>1</td>\n",
       "      <td>79084.10</td>\n",
       "      <td>0</td>\n",
       "    </tr>\n",
       "    <tr>\n",
       "      <th>5</th>\n",
       "      <td>6</td>\n",
       "      <td>15574012</td>\n",
       "      <td>Chu</td>\n",
       "      <td>645</td>\n",
       "      <td>Spain</td>\n",
       "      <td>Male</td>\n",
       "      <td>44</td>\n",
       "      <td>8.0</td>\n",
       "      <td>113755.78</td>\n",
       "      <td>2</td>\n",
       "      <td>1</td>\n",
       "      <td>0</td>\n",
       "      <td>149756.71</td>\n",
       "      <td>1</td>\n",
       "    </tr>\n",
       "    <tr>\n",
       "      <th>6</th>\n",
       "      <td>7</td>\n",
       "      <td>15592531</td>\n",
       "      <td>Bartlett</td>\n",
       "      <td>822</td>\n",
       "      <td>France</td>\n",
       "      <td>Male</td>\n",
       "      <td>50</td>\n",
       "      <td>7.0</td>\n",
       "      <td>0.00</td>\n",
       "      <td>2</td>\n",
       "      <td>1</td>\n",
       "      <td>1</td>\n",
       "      <td>10062.80</td>\n",
       "      <td>0</td>\n",
       "    </tr>\n",
       "    <tr>\n",
       "      <th>7</th>\n",
       "      <td>8</td>\n",
       "      <td>15656148</td>\n",
       "      <td>Obinna</td>\n",
       "      <td>376</td>\n",
       "      <td>Germany</td>\n",
       "      <td>Female</td>\n",
       "      <td>29</td>\n",
       "      <td>4.0</td>\n",
       "      <td>115046.74</td>\n",
       "      <td>4</td>\n",
       "      <td>1</td>\n",
       "      <td>0</td>\n",
       "      <td>119346.88</td>\n",
       "      <td>1</td>\n",
       "    </tr>\n",
       "    <tr>\n",
       "      <th>8</th>\n",
       "      <td>9</td>\n",
       "      <td>15792365</td>\n",
       "      <td>He</td>\n",
       "      <td>501</td>\n",
       "      <td>France</td>\n",
       "      <td>Male</td>\n",
       "      <td>44</td>\n",
       "      <td>4.0</td>\n",
       "      <td>142051.07</td>\n",
       "      <td>2</td>\n",
       "      <td>0</td>\n",
       "      <td>1</td>\n",
       "      <td>74940.50</td>\n",
       "      <td>0</td>\n",
       "    </tr>\n",
       "    <tr>\n",
       "      <th>9</th>\n",
       "      <td>10</td>\n",
       "      <td>15592389</td>\n",
       "      <td>H?</td>\n",
       "      <td>684</td>\n",
       "      <td>France</td>\n",
       "      <td>Male</td>\n",
       "      <td>27</td>\n",
       "      <td>2.0</td>\n",
       "      <td>134603.88</td>\n",
       "      <td>1</td>\n",
       "      <td>1</td>\n",
       "      <td>1</td>\n",
       "      <td>71725.73</td>\n",
       "      <td>0</td>\n",
       "    </tr>\n",
       "  </tbody>\n",
       "</table>\n",
       "</div>"
      ],
      "text/plain": [
       "   RowNumber  CustomerId   Surname  CreditScore Geography  Gender  Age  \\\n",
       "0          1    15634602  Hargrave          619    France  Female   42   \n",
       "1          2    15647311      Hill          608     Spain  Female   41   \n",
       "2          3    15619304      Onio          502    France  Female   42   \n",
       "3          4    15701354      Boni          699    France  Female   39   \n",
       "4          5    15737888  Mitchell          850     Spain  Female   43   \n",
       "5          6    15574012       Chu          645     Spain    Male   44   \n",
       "6          7    15592531  Bartlett          822    France    Male   50   \n",
       "7          8    15656148    Obinna          376   Germany  Female   29   \n",
       "8          9    15792365        He          501    France    Male   44   \n",
       "9         10    15592389        H?          684    France    Male   27   \n",
       "\n",
       "   Tenure    Balance  NumOfProducts  HasCrCard  IsActiveMember  \\\n",
       "0     2.0       0.00              1          1               1   \n",
       "1     1.0   83807.86              1          0               1   \n",
       "2     8.0  159660.80              3          1               0   \n",
       "3     1.0       0.00              2          0               0   \n",
       "4     2.0  125510.82              1          1               1   \n",
       "5     8.0  113755.78              2          1               0   \n",
       "6     7.0       0.00              2          1               1   \n",
       "7     4.0  115046.74              4          1               0   \n",
       "8     4.0  142051.07              2          0               1   \n",
       "9     2.0  134603.88              1          1               1   \n",
       "\n",
       "   EstimatedSalary  Exited  \n",
       "0        101348.88       1  \n",
       "1        112542.58       0  \n",
       "2        113931.57       1  \n",
       "3         93826.63       0  \n",
       "4         79084.10       0  \n",
       "5        149756.71       1  \n",
       "6         10062.80       0  \n",
       "7        119346.88       1  \n",
       "8         74940.50       0  \n",
       "9         71725.73       0  "
      ]
     },
     "execution_count": 3,
     "metadata": {},
     "output_type": "execute_result"
    }
   ],
   "source": [
    "# Study the data\n",
    "df_churn.head(10)"
   ]
  },
  {
   "cell_type": "code",
   "execution_count": 4,
   "id": "79f231d4-07ec-4b25-a9a2-08230d3e6c45",
   "metadata": {},
   "outputs": [
    {
     "name": "stdout",
     "output_type": "stream",
     "text": [
      "<class 'pandas.core.frame.DataFrame'>\n",
      "RangeIndex: 10000 entries, 0 to 9999\n",
      "Data columns (total 14 columns):\n",
      " #   Column           Non-Null Count  Dtype  \n",
      "---  ------           --------------  -----  \n",
      " 0   RowNumber        10000 non-null  int64  \n",
      " 1   CustomerId       10000 non-null  int64  \n",
      " 2   Surname          10000 non-null  object \n",
      " 3   CreditScore      10000 non-null  int64  \n",
      " 4   Geography        10000 non-null  object \n",
      " 5   Gender           10000 non-null  object \n",
      " 6   Age              10000 non-null  int64  \n",
      " 7   Tenure           9091 non-null   float64\n",
      " 8   Balance          10000 non-null  float64\n",
      " 9   NumOfProducts    10000 non-null  int64  \n",
      " 10  HasCrCard        10000 non-null  int64  \n",
      " 11  IsActiveMember   10000 non-null  int64  \n",
      " 12  EstimatedSalary  10000 non-null  float64\n",
      " 13  Exited           10000 non-null  int64  \n",
      "dtypes: float64(3), int64(8), object(3)\n",
      "memory usage: 1.1+ MB\n"
     ]
    }
   ],
   "source": [
    "df_churn.info()"
   ]
  },
  {
   "cell_type": "code",
   "execution_count": 5,
   "id": "d6cc72c2-e126-4089-b4f9-d96b79f64424",
   "metadata": {
    "scrolled": true
   },
   "outputs": [
    {
     "data": {
      "text/html": [
       "<div>\n",
       "<style scoped>\n",
       "    .dataframe tbody tr th:only-of-type {\n",
       "        vertical-align: middle;\n",
       "    }\n",
       "\n",
       "    .dataframe tbody tr th {\n",
       "        vertical-align: top;\n",
       "    }\n",
       "\n",
       "    .dataframe thead th {\n",
       "        text-align: right;\n",
       "    }\n",
       "</style>\n",
       "<table border=\"1\" class=\"dataframe\">\n",
       "  <thead>\n",
       "    <tr style=\"text-align: right;\">\n",
       "      <th></th>\n",
       "      <th>RowNumber</th>\n",
       "      <th>CustomerId</th>\n",
       "      <th>CreditScore</th>\n",
       "      <th>Age</th>\n",
       "      <th>Tenure</th>\n",
       "      <th>Balance</th>\n",
       "      <th>NumOfProducts</th>\n",
       "      <th>HasCrCard</th>\n",
       "      <th>IsActiveMember</th>\n",
       "      <th>EstimatedSalary</th>\n",
       "      <th>Exited</th>\n",
       "    </tr>\n",
       "  </thead>\n",
       "  <tbody>\n",
       "    <tr>\n",
       "      <th>count</th>\n",
       "      <td>10000.00000</td>\n",
       "      <td>1.000000e+04</td>\n",
       "      <td>10000.000000</td>\n",
       "      <td>10000.000000</td>\n",
       "      <td>9091.000000</td>\n",
       "      <td>10000.000000</td>\n",
       "      <td>10000.000000</td>\n",
       "      <td>10000.00000</td>\n",
       "      <td>10000.000000</td>\n",
       "      <td>10000.000000</td>\n",
       "      <td>10000.000000</td>\n",
       "    </tr>\n",
       "    <tr>\n",
       "      <th>mean</th>\n",
       "      <td>5000.50000</td>\n",
       "      <td>1.569094e+07</td>\n",
       "      <td>650.528800</td>\n",
       "      <td>38.921800</td>\n",
       "      <td>4.997690</td>\n",
       "      <td>76485.889288</td>\n",
       "      <td>1.530200</td>\n",
       "      <td>0.70550</td>\n",
       "      <td>0.515100</td>\n",
       "      <td>100090.239881</td>\n",
       "      <td>0.203700</td>\n",
       "    </tr>\n",
       "    <tr>\n",
       "      <th>std</th>\n",
       "      <td>2886.89568</td>\n",
       "      <td>7.193619e+04</td>\n",
       "      <td>96.653299</td>\n",
       "      <td>10.487806</td>\n",
       "      <td>2.894723</td>\n",
       "      <td>62397.405202</td>\n",
       "      <td>0.581654</td>\n",
       "      <td>0.45584</td>\n",
       "      <td>0.499797</td>\n",
       "      <td>57510.492818</td>\n",
       "      <td>0.402769</td>\n",
       "    </tr>\n",
       "    <tr>\n",
       "      <th>min</th>\n",
       "      <td>1.00000</td>\n",
       "      <td>1.556570e+07</td>\n",
       "      <td>350.000000</td>\n",
       "      <td>18.000000</td>\n",
       "      <td>0.000000</td>\n",
       "      <td>0.000000</td>\n",
       "      <td>1.000000</td>\n",
       "      <td>0.00000</td>\n",
       "      <td>0.000000</td>\n",
       "      <td>11.580000</td>\n",
       "      <td>0.000000</td>\n",
       "    </tr>\n",
       "    <tr>\n",
       "      <th>25%</th>\n",
       "      <td>2500.75000</td>\n",
       "      <td>1.562853e+07</td>\n",
       "      <td>584.000000</td>\n",
       "      <td>32.000000</td>\n",
       "      <td>2.000000</td>\n",
       "      <td>0.000000</td>\n",
       "      <td>1.000000</td>\n",
       "      <td>0.00000</td>\n",
       "      <td>0.000000</td>\n",
       "      <td>51002.110000</td>\n",
       "      <td>0.000000</td>\n",
       "    </tr>\n",
       "    <tr>\n",
       "      <th>50%</th>\n",
       "      <td>5000.50000</td>\n",
       "      <td>1.569074e+07</td>\n",
       "      <td>652.000000</td>\n",
       "      <td>37.000000</td>\n",
       "      <td>5.000000</td>\n",
       "      <td>97198.540000</td>\n",
       "      <td>1.000000</td>\n",
       "      <td>1.00000</td>\n",
       "      <td>1.000000</td>\n",
       "      <td>100193.915000</td>\n",
       "      <td>0.000000</td>\n",
       "    </tr>\n",
       "    <tr>\n",
       "      <th>75%</th>\n",
       "      <td>7500.25000</td>\n",
       "      <td>1.575323e+07</td>\n",
       "      <td>718.000000</td>\n",
       "      <td>44.000000</td>\n",
       "      <td>7.000000</td>\n",
       "      <td>127644.240000</td>\n",
       "      <td>2.000000</td>\n",
       "      <td>1.00000</td>\n",
       "      <td>1.000000</td>\n",
       "      <td>149388.247500</td>\n",
       "      <td>0.000000</td>\n",
       "    </tr>\n",
       "    <tr>\n",
       "      <th>max</th>\n",
       "      <td>10000.00000</td>\n",
       "      <td>1.581569e+07</td>\n",
       "      <td>850.000000</td>\n",
       "      <td>92.000000</td>\n",
       "      <td>10.000000</td>\n",
       "      <td>250898.090000</td>\n",
       "      <td>4.000000</td>\n",
       "      <td>1.00000</td>\n",
       "      <td>1.000000</td>\n",
       "      <td>199992.480000</td>\n",
       "      <td>1.000000</td>\n",
       "    </tr>\n",
       "  </tbody>\n",
       "</table>\n",
       "</div>"
      ],
      "text/plain": [
       "         RowNumber    CustomerId   CreditScore           Age       Tenure  \\\n",
       "count  10000.00000  1.000000e+04  10000.000000  10000.000000  9091.000000   \n",
       "mean    5000.50000  1.569094e+07    650.528800     38.921800     4.997690   \n",
       "std     2886.89568  7.193619e+04     96.653299     10.487806     2.894723   \n",
       "min        1.00000  1.556570e+07    350.000000     18.000000     0.000000   \n",
       "25%     2500.75000  1.562853e+07    584.000000     32.000000     2.000000   \n",
       "50%     5000.50000  1.569074e+07    652.000000     37.000000     5.000000   \n",
       "75%     7500.25000  1.575323e+07    718.000000     44.000000     7.000000   \n",
       "max    10000.00000  1.581569e+07    850.000000     92.000000    10.000000   \n",
       "\n",
       "             Balance  NumOfProducts    HasCrCard  IsActiveMember  \\\n",
       "count   10000.000000   10000.000000  10000.00000    10000.000000   \n",
       "mean    76485.889288       1.530200      0.70550        0.515100   \n",
       "std     62397.405202       0.581654      0.45584        0.499797   \n",
       "min         0.000000       1.000000      0.00000        0.000000   \n",
       "25%         0.000000       1.000000      0.00000        0.000000   \n",
       "50%     97198.540000       1.000000      1.00000        1.000000   \n",
       "75%    127644.240000       2.000000      1.00000        1.000000   \n",
       "max    250898.090000       4.000000      1.00000        1.000000   \n",
       "\n",
       "       EstimatedSalary        Exited  \n",
       "count     10000.000000  10000.000000  \n",
       "mean     100090.239881      0.203700  \n",
       "std       57510.492818      0.402769  \n",
       "min          11.580000      0.000000  \n",
       "25%       51002.110000      0.000000  \n",
       "50%      100193.915000      0.000000  \n",
       "75%      149388.247500      0.000000  \n",
       "max      199992.480000      1.000000  "
      ]
     },
     "execution_count": 5,
     "metadata": {},
     "output_type": "execute_result"
    }
   ],
   "source": [
    "df_churn.describe()"
   ]
  },
  {
   "cell_type": "markdown",
   "id": "49319b9b-3377-4b4d-b174-b9d0d6f61573",
   "metadata": {},
   "source": [
    "The dataset is looking good so far. The column labels and data types don't look to require additional attention."
   ]
  },
  {
   "cell_type": "markdown",
   "id": "f2a41ac9-0447-450b-b95b-d35ffa5379cc",
   "metadata": {},
   "source": [
    "## Data Preprocessing"
   ]
  },
  {
   "cell_type": "markdown",
   "id": "4af43ece-6b56-4e0b-8901-022b95b4e7c5",
   "metadata": {},
   "source": [
    "### Find missing values"
   ]
  },
  {
   "cell_type": "code",
   "execution_count": 6,
   "id": "fa58bc2f-f468-44e7-846f-f1e7720b6da1",
   "metadata": {},
   "outputs": [
    {
     "data": {
      "text/plain": [
       "RowNumber            0\n",
       "CustomerId           0\n",
       "Surname              0\n",
       "CreditScore          0\n",
       "Geography            0\n",
       "Gender               0\n",
       "Age                  0\n",
       "Tenure             909\n",
       "Balance              0\n",
       "NumOfProducts        0\n",
       "HasCrCard            0\n",
       "IsActiveMember       0\n",
       "EstimatedSalary      0\n",
       "Exited               0\n",
       "dtype: int64"
      ]
     },
     "execution_count": 6,
     "metadata": {},
     "output_type": "execute_result"
    }
   ],
   "source": [
    "df_churn.isnull().sum()"
   ]
  },
  {
   "cell_type": "markdown",
   "id": "d5469efb-aa1d-41bd-be4d-eba789914e07",
   "metadata": {},
   "source": [
    "The only missing values come from the `Tenure` feature. We'll handle them below."
   ]
  },
  {
   "cell_type": "markdown",
   "id": "35ea0fad-546e-44f7-83eb-f145c0efabc1",
   "metadata": {},
   "source": [
    "### Find duplicate values"
   ]
  },
  {
   "cell_type": "code",
   "execution_count": 7,
   "id": "15947d86-8207-403d-b140-34f117c44f77",
   "metadata": {},
   "outputs": [
    {
     "data": {
      "text/plain": [
       "0"
      ]
     },
     "execution_count": 7,
     "metadata": {},
     "output_type": "execute_result"
    }
   ],
   "source": [
    "df_churn.duplicated().sum()"
   ]
  },
  {
   "cell_type": "code",
   "execution_count": 8,
   "id": "c7bc973d-d860-41bf-930d-2f719e3ebfbc",
   "metadata": {},
   "outputs": [
    {
     "data": {
      "text/plain": [
       "0"
      ]
     },
     "execution_count": 8,
     "metadata": {},
     "output_type": "execute_result"
    }
   ],
   "source": [
    "df_churn['CustomerId'].duplicated().sum()"
   ]
  },
  {
   "cell_type": "code",
   "execution_count": 9,
   "id": "13000f02-5099-4ae8-a37f-b0b680857ed6",
   "metadata": {},
   "outputs": [
    {
     "data": {
      "text/plain": [
       "['France', 'Germany', 'Spain']"
      ]
     },
     "execution_count": 9,
     "metadata": {},
     "output_type": "execute_result"
    }
   ],
   "source": [
    "sorted(df_churn['Geography'].unique())"
   ]
  },
  {
   "cell_type": "code",
   "execution_count": 10,
   "id": "8b4bc146-4080-4394-b4bb-60b1fd000d32",
   "metadata": {},
   "outputs": [
    {
     "data": {
      "text/plain": [
       "['Female', 'Male']"
      ]
     },
     "execution_count": 10,
     "metadata": {},
     "output_type": "execute_result"
    }
   ],
   "source": [
    "sorted(df_churn['Gender'].unique())"
   ]
  },
  {
   "cell_type": "markdown",
   "id": "710f4144-05bf-4cd0-87e3-bbff401c3894",
   "metadata": {},
   "source": [
    "There are no duplicate rows, customer ids, geography, nor gender values, so no additional attention seems to be required here."
   ]
  },
  {
   "cell_type": "markdown",
   "id": "487c151e-689c-409a-9e6a-d42e58ccece2",
   "metadata": {},
   "source": [
    "### Fix data"
   ]
  },
  {
   "cell_type": "code",
   "execution_count": 11,
   "id": "373151b3-50ef-4b16-8640-d4be64b631c7",
   "metadata": {
    "scrolled": true
   },
   "outputs": [
    {
     "data": {
      "text/html": [
       "<div>\n",
       "<style scoped>\n",
       "    .dataframe tbody tr th:only-of-type {\n",
       "        vertical-align: middle;\n",
       "    }\n",
       "\n",
       "    .dataframe tbody tr th {\n",
       "        vertical-align: top;\n",
       "    }\n",
       "\n",
       "    .dataframe thead th {\n",
       "        text-align: right;\n",
       "    }\n",
       "</style>\n",
       "<table border=\"1\" class=\"dataframe\">\n",
       "  <thead>\n",
       "    <tr style=\"text-align: right;\">\n",
       "      <th></th>\n",
       "      <th>CreditScore</th>\n",
       "      <th>Geography</th>\n",
       "      <th>Gender</th>\n",
       "      <th>Age</th>\n",
       "      <th>Tenure</th>\n",
       "      <th>Balance</th>\n",
       "      <th>NumOfProducts</th>\n",
       "      <th>HasCrCard</th>\n",
       "      <th>IsActiveMember</th>\n",
       "      <th>EstimatedSalary</th>\n",
       "      <th>Exited</th>\n",
       "    </tr>\n",
       "  </thead>\n",
       "  <tbody>\n",
       "    <tr>\n",
       "      <th>0</th>\n",
       "      <td>608</td>\n",
       "      <td>Spain</td>\n",
       "      <td>Female</td>\n",
       "      <td>41</td>\n",
       "      <td>1.0</td>\n",
       "      <td>83807.86</td>\n",
       "      <td>1</td>\n",
       "      <td>0</td>\n",
       "      <td>1</td>\n",
       "      <td>112542.58</td>\n",
       "      <td>0</td>\n",
       "    </tr>\n",
       "    <tr>\n",
       "      <th>1</th>\n",
       "      <td>502</td>\n",
       "      <td>France</td>\n",
       "      <td>Female</td>\n",
       "      <td>42</td>\n",
       "      <td>8.0</td>\n",
       "      <td>159660.80</td>\n",
       "      <td>3</td>\n",
       "      <td>1</td>\n",
       "      <td>0</td>\n",
       "      <td>113931.57</td>\n",
       "      <td>1</td>\n",
       "    </tr>\n",
       "    <tr>\n",
       "      <th>2</th>\n",
       "      <td>850</td>\n",
       "      <td>Spain</td>\n",
       "      <td>Female</td>\n",
       "      <td>43</td>\n",
       "      <td>2.0</td>\n",
       "      <td>125510.82</td>\n",
       "      <td>1</td>\n",
       "      <td>1</td>\n",
       "      <td>1</td>\n",
       "      <td>79084.10</td>\n",
       "      <td>0</td>\n",
       "    </tr>\n",
       "    <tr>\n",
       "      <th>3</th>\n",
       "      <td>645</td>\n",
       "      <td>Spain</td>\n",
       "      <td>Male</td>\n",
       "      <td>44</td>\n",
       "      <td>8.0</td>\n",
       "      <td>113755.78</td>\n",
       "      <td>2</td>\n",
       "      <td>1</td>\n",
       "      <td>0</td>\n",
       "      <td>149756.71</td>\n",
       "      <td>1</td>\n",
       "    </tr>\n",
       "    <tr>\n",
       "      <th>4</th>\n",
       "      <td>376</td>\n",
       "      <td>Germany</td>\n",
       "      <td>Female</td>\n",
       "      <td>29</td>\n",
       "      <td>4.0</td>\n",
       "      <td>115046.74</td>\n",
       "      <td>4</td>\n",
       "      <td>1</td>\n",
       "      <td>0</td>\n",
       "      <td>119346.88</td>\n",
       "      <td>1</td>\n",
       "    </tr>\n",
       "    <tr>\n",
       "      <th>5</th>\n",
       "      <td>501</td>\n",
       "      <td>France</td>\n",
       "      <td>Male</td>\n",
       "      <td>44</td>\n",
       "      <td>4.0</td>\n",
       "      <td>142051.07</td>\n",
       "      <td>2</td>\n",
       "      <td>0</td>\n",
       "      <td>1</td>\n",
       "      <td>74940.50</td>\n",
       "      <td>0</td>\n",
       "    </tr>\n",
       "    <tr>\n",
       "      <th>6</th>\n",
       "      <td>684</td>\n",
       "      <td>France</td>\n",
       "      <td>Male</td>\n",
       "      <td>27</td>\n",
       "      <td>2.0</td>\n",
       "      <td>134603.88</td>\n",
       "      <td>1</td>\n",
       "      <td>1</td>\n",
       "      <td>1</td>\n",
       "      <td>71725.73</td>\n",
       "      <td>0</td>\n",
       "    </tr>\n",
       "    <tr>\n",
       "      <th>7</th>\n",
       "      <td>528</td>\n",
       "      <td>France</td>\n",
       "      <td>Male</td>\n",
       "      <td>31</td>\n",
       "      <td>6.0</td>\n",
       "      <td>102016.72</td>\n",
       "      <td>2</td>\n",
       "      <td>0</td>\n",
       "      <td>0</td>\n",
       "      <td>80181.12</td>\n",
       "      <td>0</td>\n",
       "    </tr>\n",
       "    <tr>\n",
       "      <th>8</th>\n",
       "      <td>616</td>\n",
       "      <td>Germany</td>\n",
       "      <td>Male</td>\n",
       "      <td>45</td>\n",
       "      <td>3.0</td>\n",
       "      <td>143129.41</td>\n",
       "      <td>2</td>\n",
       "      <td>0</td>\n",
       "      <td>1</td>\n",
       "      <td>64327.26</td>\n",
       "      <td>0</td>\n",
       "    </tr>\n",
       "    <tr>\n",
       "      <th>9</th>\n",
       "      <td>653</td>\n",
       "      <td>Germany</td>\n",
       "      <td>Male</td>\n",
       "      <td>58</td>\n",
       "      <td>1.0</td>\n",
       "      <td>132602.88</td>\n",
       "      <td>1</td>\n",
       "      <td>1</td>\n",
       "      <td>0</td>\n",
       "      <td>5097.67</td>\n",
       "      <td>1</td>\n",
       "    </tr>\n",
       "  </tbody>\n",
       "</table>\n",
       "</div>"
      ],
      "text/plain": [
       "   CreditScore Geography  Gender  Age  Tenure    Balance  NumOfProducts  \\\n",
       "0          608     Spain  Female   41     1.0   83807.86              1   \n",
       "1          502    France  Female   42     8.0  159660.80              3   \n",
       "2          850     Spain  Female   43     2.0  125510.82              1   \n",
       "3          645     Spain    Male   44     8.0  113755.78              2   \n",
       "4          376   Germany  Female   29     4.0  115046.74              4   \n",
       "5          501    France    Male   44     4.0  142051.07              2   \n",
       "6          684    France    Male   27     2.0  134603.88              1   \n",
       "7          528    France    Male   31     6.0  102016.72              2   \n",
       "8          616   Germany    Male   45     3.0  143129.41              2   \n",
       "9          653   Germany    Male   58     1.0  132602.88              1   \n",
       "\n",
       "   HasCrCard  IsActiveMember  EstimatedSalary  Exited  \n",
       "0          0               1        112542.58       0  \n",
       "1          1               0        113931.57       1  \n",
       "2          1               1         79084.10       0  \n",
       "3          1               0        149756.71       1  \n",
       "4          1               0        119346.88       1  \n",
       "5          0               1         74940.50       0  \n",
       "6          1               1         71725.73       0  \n",
       "7          0               0         80181.12       0  \n",
       "8          0               1         64327.26       0  \n",
       "9          1               0          5097.67       1  "
      ]
     },
     "metadata": {},
     "output_type": "display_data"
    },
    {
     "name": "stdout",
     "output_type": "stream",
     "text": [
      "<class 'pandas.core.frame.DataFrame'>\n",
      "RangeIndex: 5808 entries, 0 to 5807\n",
      "Data columns (total 11 columns):\n",
      " #   Column           Non-Null Count  Dtype  \n",
      "---  ------           --------------  -----  \n",
      " 0   CreditScore      5808 non-null   int64  \n",
      " 1   Geography        5808 non-null   object \n",
      " 2   Gender           5808 non-null   object \n",
      " 3   Age              5808 non-null   int64  \n",
      " 4   Tenure           5808 non-null   float64\n",
      " 5   Balance          5808 non-null   float64\n",
      " 6   NumOfProducts    5808 non-null   int64  \n",
      " 7   HasCrCard        5808 non-null   int64  \n",
      " 8   IsActiveMember   5808 non-null   int64  \n",
      " 9   EstimatedSalary  5808 non-null   float64\n",
      " 10  Exited           5808 non-null   int64  \n",
      "dtypes: float64(3), int64(6), object(2)\n",
      "memory usage: 499.2+ KB\n"
     ]
    }
   ],
   "source": [
    "df_churn_cleaned = df_churn.dropna(subset=['Tenure']).reset_index(drop=True)\n",
    "df_churn_cleaned = df_churn_cleaned.drop(columns=['RowNumber', 'CustomerId', 'Surname'], axis=1)\n",
    "df_churn_cleaned = df_churn_cleaned[df_churn_cleaned['Balance'] != 0].reset_index(drop=True)\n",
    "display(df_churn_cleaned.head(10))\n",
    "df_churn_cleaned.info()"
   ]
  },
  {
   "cell_type": "markdown",
   "id": "35dbee7f-29cc-4730-beef-bc00cc69689f",
   "metadata": {},
   "source": [
    "We apply fixes to the data by dropping the following rows, as it won't serve any benefit to our model evaluations keeping them in:\n",
    "* Drop rows where `Tenure` is missing a value\n",
    "* Drop `RowNumber`, `CustomerId`, `Surname` rows\n",
    "* Drop rows where the customers's bank balance is $0"
   ]
  },
  {
   "cell_type": "markdown",
   "id": "950c9bb8-b3a0-4ea2-8974-6a7f60489514",
   "metadata": {},
   "source": [
    "## Data Analysis"
   ]
  },
  {
   "cell_type": "code",
   "execution_count": 12,
   "id": "df5a80c4-a96d-4051-a048-08afed37c677",
   "metadata": {},
   "outputs": [
    {
     "data": {
      "image/png": "[encoded data removed]",
      "text/plain": [
       "<Figure size 720x576 with 2 Axes>"
      ]
     },
     "metadata": {
      "needs_background": "light"
     },
     "output_type": "display_data"
    }
   ],
   "source": [
    "# Plot heatmap of numerical features\n",
    "numeric_features = ['CreditScore', 'Age', 'Tenure', 'Balance', 'NumOfProducts', 'EstimatedSalary']\n",
    "\n",
    "df_churn_filtered = df_churn_cleaned.filter(items=numeric_features)\n",
    "corr_matrix = df_churn_filtered.corr()\n",
    "\n",
    "plt.figure(figsize=(10,8))\n",
    "sns.heatmap(\n",
    "    corr_matrix,\n",
    "    fmt='.3f',\n",
    "    vmin=-1,\n",
    "    vmax=1,\n",
    "    center=0,\n",
    "    annot=True,\n",
    "    cmap='viridis'\n",
    ")\n",
    "plt.title('Correlation matrix of numerical features')\n",
    "plt.show()"
   ]
  },
  {
   "cell_type": "markdown",
   "id": "71b94927-15aa-40d6-93fa-a9e5bfffd42e",
   "metadata": {},
   "source": [
    "We do a quick data analysis on the cleaned dataset, focused on just the numeric features, using a correlation matrix. Overall, correlation seems to be relative non-existent across all the features in question."
   ]
  },
  {
   "cell_type": "markdown",
   "id": "fabb1a59-3777-43a0-bbd1-0257f96e80b9",
   "metadata": {},
   "source": [
    "## Supervised Learning"
   ]
  },
  {
   "cell_type": "markdown",
   "id": "4941f938-b13c-4f91-83e0-c9d25527ddb9",
   "metadata": {},
   "source": [
    "### Examine balance of the classes"
   ]
  },
  {
   "cell_type": "code",
   "execution_count": 13,
   "id": "572587c0-6da0-42d2-af67-12e38a5f9ce9",
   "metadata": {},
   "outputs": [
    {
     "data": {
      "image/png": "[encoded data removed]",
      "text/plain": [
       "<Figure size 432x288 with 1 Axes>"
      ]
     },
     "metadata": {},
     "output_type": "display_data"
    }
   ],
   "source": [
    "churn_exited = df_churn_cleaned['Exited'].value_counts()\n",
    "\n",
    "sns.set_style('whitegrid')\n",
    "churn_exited.plot(kind='bar')\n",
    "plt.xlabel('Exited')\n",
    "plt.ylabel('Count')\n",
    "plt.xticks(rotation='horizontal')\n",
    "plt.title('Class distribution')\n",
    "plt.show()"
   ]
  },
  {
   "cell_type": "markdown",
   "id": "57caa9d4-c5b8-4f0e-a291-a51baec831f5",
   "metadata": {},
   "source": [
    "We examine the balance of the `Exited` class via bar plot and see that there is an imbalance right away. This will negatively affect how our models will be trained. We'll need to address the class imbalance below."
   ]
  },
  {
   "cell_type": "markdown",
   "id": "9bef7732-f447-4b3e-8a45-6e1d84b1fab6",
   "metadata": {},
   "source": [
    "### Logistic Regression: Feature prepration"
   ]
  },
  {
   "cell_type": "markdown",
   "id": "9a9f9d4e-8422-48b9-8400-ff757ee7a99d",
   "metadata": {},
   "source": [
    "#### Encode features"
   ]
  },
  {
   "cell_type": "code",
   "execution_count": 14,
   "id": "15b235cd-8dc8-4ea4-8804-7daee0437d38",
   "metadata": {},
   "outputs": [
    {
     "name": "stdout",
     "output_type": "stream",
     "text": [
      "Accuracy of the training set: 0.7428243398392652\n",
      "Accuracy of the validation set: 0.7633390705679862\n"
     ]
    }
   ],
   "source": [
    "# One-hot encoding\n",
    "df_churn_ohe = pd.get_dummies(df_churn_cleaned, columns=['Geography', 'Gender'], drop_first=True)\n",
    "features_ohe = df_churn_ohe.drop('Exited', axis=1)\n",
    "target_ohe = df_churn_ohe['Exited']\n",
    "\n",
    "# Split the data\n",
    "features_train_ohe, features_remaining_ohe, target_train_ohe, target_remaining_ohe = train_test_split(features_ohe, target_ohe, test_size=0.4, random_state=12345)\n",
    "features_valid_ohe, features_test_ohe, target_valid_ohe, target_test_ohe = train_test_split(features_remaining_ohe, target_remaining_ohe, test_size=0.5, random_state=12345)\n",
    "\n",
    "# Create and train the model\n",
    "model = LogisticRegression(random_state=12345, solver='liblinear')\n",
    "model.fit(features_train_ohe, target_train_ohe)\n",
    "\n",
    "# Calculate accuracy\n",
    "score_train_ohe = model.score(features_train_ohe, target_train_ohe)\n",
    "score_valid_ohe = model.score(features_valid_ohe, target_valid_ohe)\n",
    "\n",
    "print(f'Accuracy of the training set: {score_train_ohe}')\n",
    "print(f'Accuracy of the validation set: {score_valid_ohe}')"
   ]
  },
  {
   "cell_type": "markdown",
   "id": "0b4be25a-95a7-423f-9e14-48983cc808fb",
   "metadata": {},
   "source": [
    "For our first model, we'll be using **logistic regression**. For this, we need to encode categorical features (`Geography`, `Gender`) into numerical features using One-Hot Encoding. Once that's done, we print the initial accuracy scores for each of the sets that we've split up (using a 3:1:1 ratio)."
   ]
  },
  {
   "cell_type": "markdown",
   "id": "b32bcc82-015b-4541-817c-626c1ff0ee5c",
   "metadata": {},
   "source": [
    "#### Scale features"
   ]
  },
  {
   "cell_type": "code",
   "execution_count": 15,
   "id": "80bea2af-cf09-4a1c-b9a8-8f5887003ad6",
   "metadata": {},
   "outputs": [
    {
     "name": "stderr",
     "output_type": "stream",
     "text": [
      "/tmp/ipykernel_76/1308159269.py:6: SettingWithCopyWarning: \n",
      "A value is trying to be set on a copy of a slice from a DataFrame.\n",
      "Try using .loc[row_indexer,col_indexer] = value instead\n",
      "\n",
      "See the caveats in the documentation: https://pandas.pydata.org/pandas-docs/stable/user_guide/indexing.html#returning-a-view-versus-a-copy\n",
      "  features_train_ohe[numeric_features] = scaler.transform(features_train_ohe[numeric_features])\n",
      "/opt/conda/lib/python3.9/site-packages/pandas/core/indexing.py:1738: SettingWithCopyWarning: \n",
      "A value is trying to be set on a copy of a slice from a DataFrame.\n",
      "Try using .loc[row_indexer,col_indexer] = value instead\n",
      "\n",
      "See the caveats in the documentation: https://pandas.pydata.org/pandas-docs/stable/user_guide/indexing.html#returning-a-view-versus-a-copy\n",
      "  self._setitem_single_column(loc, value[:, i].tolist(), pi)\n",
      "/tmp/ipykernel_76/1308159269.py:7: SettingWithCopyWarning: \n",
      "A value is trying to be set on a copy of a slice from a DataFrame.\n",
      "Try using .loc[row_indexer,col_indexer] = value instead\n",
      "\n",
      "See the caveats in the documentation: https://pandas.pydata.org/pandas-docs/stable/user_guide/indexing.html#returning-a-view-versus-a-copy\n",
      "  features_valid_ohe[numeric_features] = scaler.transform(features_valid_ohe[numeric_features])\n",
      "/opt/conda/lib/python3.9/site-packages/pandas/core/indexing.py:1738: SettingWithCopyWarning: \n",
      "A value is trying to be set on a copy of a slice from a DataFrame.\n",
      "Try using .loc[row_indexer,col_indexer] = value instead\n",
      "\n",
      "See the caveats in the documentation: https://pandas.pydata.org/pandas-docs/stable/user_guide/indexing.html#returning-a-view-versus-a-copy\n",
      "  self._setitem_single_column(loc, value[:, i].tolist(), pi)\n",
      "/tmp/ipykernel_76/1308159269.py:8: SettingWithCopyWarning: \n",
      "A value is trying to be set on a copy of a slice from a DataFrame.\n",
      "Try using .loc[row_indexer,col_indexer] = value instead\n",
      "\n",
      "See the caveats in the documentation: https://pandas.pydata.org/pandas-docs/stable/user_guide/indexing.html#returning-a-view-versus-a-copy\n",
      "  features_test_ohe[numeric_features] = scaler.transform(features_test_ohe[numeric_features])\n",
      "/opt/conda/lib/python3.9/site-packages/pandas/core/indexing.py:1738: SettingWithCopyWarning: \n",
      "A value is trying to be set on a copy of a slice from a DataFrame.\n",
      "Try using .loc[row_indexer,col_indexer] = value instead\n",
      "\n",
      "See the caveats in the documentation: https://pandas.pydata.org/pandas-docs/stable/user_guide/indexing.html#returning-a-view-versus-a-copy\n",
      "  self._setitem_single_column(loc, value[:, i].tolist(), pi)\n"
     ]
    }
   ],
   "source": [
    "# Standardize the data\n",
    "scaler = StandardScaler()\n",
    "scaler.fit(features_train_ohe[numeric_features])\n",
    "\n",
    "# Transform the data\n",
    "features_train_ohe[numeric_features] = scaler.transform(features_train_ohe[numeric_features])\n",
    "features_valid_ohe[numeric_features] = scaler.transform(features_valid_ohe[numeric_features])\n",
    "features_test_ohe[numeric_features] = scaler.transform(features_test_ohe[numeric_features])"
   ]
  },
  {
   "cell_type": "markdown",
   "id": "86043f82-8fd1-4351-b036-949e7692869d",
   "metadata": {},
   "source": [
    "Next, we use a scaler to standardize the encoded data since the features have different scales."
   ]
  },
  {
   "cell_type": "markdown",
   "id": "a93050b0-4c0a-4683-bace-2a3caa7c4c83",
   "metadata": {},
   "source": [
    "### Logistic Regression: Classification metrics"
   ]
  },
  {
   "cell_type": "code",
   "execution_count": 16,
   "id": "d473cb64-d2a9-4612-9064-4df07ad5b7dd",
   "metadata": {},
   "outputs": [],
   "source": [
    "def print_model_evaluation(model, features, target, predictions):\n",
    "    # F1\n",
    "    f1 = f1_score(target, predictions)\n",
    "    \n",
    "    # Accuracy\n",
    "    score_valid = model.score(features, target)\n",
    "    \n",
    "    # Confusion matrix\n",
    "    conf_matrix = confusion_matrix(target, predictions)\n",
    "    sns.heatmap(\n",
    "        conf_matrix,\n",
    "        fmt='.0f',\n",
    "        annot=True,\n",
    "        cmap='cividis'\n",
    "    )\n",
    "    plt.xlabel('Predicted Values')\n",
    "    plt.ylabel('Actual Values')\n",
    "    plt.title(f'Accuracy score: {score_valid:.3f}')\n",
    "    plt.plot()\n",
    "\n",
    "    print(f'F1 score: {f1}')\n",
    "    print(f'Accuracy score: {score_valid}')\n",
    "    \n",
    "    # ROC curve\n",
    "    probabilities_valid = model.predict_proba(features) # threshold adjustment\n",
    "    probabilities_one_valid = probabilities_valid[:, 1]\n",
    "    \n",
    "    fpr, tpr, thresholds = roc_curve(target, probabilities_one_valid)\n",
    "    \n",
    "    plt.figure()\n",
    "    plt.plot(fpr, tpr)\n",
    "    \n",
    "    # Plot random model ROC curve\n",
    "    plt.plot([0, 1], [0, 1], linestyle='--')\n",
    "    \n",
    "    # Set the boundary for the axes from 0 to 1\n",
    "    plt.xlim([0.0, 1.0])\n",
    "    plt.ylim([0.0, 1.0])\n",
    "    \n",
    "    plt.xlabel('False Positive Rate')\n",
    "    plt.ylabel('True Positive Rate')\n",
    "    plt.title('ROC curve')\n",
    "    plt.show()\n",
    "\n",
    "    # AUC-ROC\n",
    "    auc_roc = roc_auc_score(target, probabilities_one_valid)\n",
    "    print(f'AUC-ROC value: {auc_roc}')"
   ]
  },
  {
   "cell_type": "markdown",
   "id": "255ed8c9-3dd1-4c13-823f-69f0bc16f835",
   "metadata": {},
   "source": [
    "For classification metrics, we create a method to evaluate a model (which we will reuse) that provides the following results:\n",
    "1. F1 score\n",
    "2. Accuracy store\n",
    "3. Confusion matrix\n",
    "4. ROC curve\n",
    "5. AUC-ROC score"
   ]
  },
  {
   "cell_type": "markdown",
   "id": "ba0d7881-9cbc-4aa6-838e-6a87601ef8ba",
   "metadata": {},
   "source": [
    "#### Train the model with class imbalance"
   ]
  },
  {
   "cell_type": "code",
   "execution_count": 17,
   "id": "d2f5d366-d947-4536-ad27-feff4130cb33",
   "metadata": {},
   "outputs": [
    {
     "name": "stdout",
     "output_type": "stream",
     "text": [
      "F1 score: 0.36604774535809015\n",
      "Accuracy score: 0.7943201376936316\n"
     ]
    },
    {
     "data": {
      "image/png": "[encoded data removed]",
      "text/plain": [
       "<Figure size 432x288 with 2 Axes>"
      ]
     },
     "metadata": {},
     "output_type": "display_data"
    },
    {
     "data": {
      "image/png": "[encoded data removed]",
      "text/plain": [
       "<Figure size 432x288 with 1 Axes>"
      ]
     },
     "metadata": {},
     "output_type": "display_data"
    },
    {
     "name": "stdout",
     "output_type": "stream",
     "text": [
      "AUC-ROC value: 0.780068002700229\n"
     ]
    }
   ],
   "source": [
    "model = LogisticRegression(random_state=12345, solver='liblinear')\n",
    "model.fit(features_train_ohe, target_train_ohe)\n",
    "\n",
    "# Find predictions\n",
    "predicted_valid = model.predict(features_valid_ohe)\n",
    "\n",
    "# Evaluate the model\n",
    "print_model_evaluation(model, features_valid_ohe, target_valid_ohe, predicted_valid)"
   ]
  },
  {
   "cell_type": "markdown",
   "id": "fdfd4829-03f2-47f8-98dd-5431f7d667d5",
   "metadata": {},
   "source": [
    "For a baseline, we train the model without taking into account the class imbalance. The F1 score using a logistic regression model with the class imbalance intact yields a drastically low score below our target score of **0.59**, which means that both precision and recall are low. We note that the AUC-ROC value is at a decent level."
   ]
  },
  {
   "cell_type": "markdown",
   "id": "b4671fc2-446b-4252-b2b1-0f604d382349",
   "metadata": {},
   "source": [
    "### Logistic Regression: Fix imbalance of classes"
   ]
  },
  {
   "cell_type": "code",
   "execution_count": 18,
   "id": "f2e3167c-489d-4fd7-8d4e-1d85061bcfe1",
   "metadata": {},
   "outputs": [],
   "source": [
    "def upsample(features, target, repeat):\n",
    "    # Split the training sample into negative & positive observations\n",
    "    features_zeros = features[target == 0]\n",
    "    features_ones = features[target == 1]\n",
    "    target_zeros = target[target == 0]\n",
    "    target_ones = target[target == 1]\n",
    "\n",
    "    features_upsampled = pd.concat([features_zeros] + [features_ones] * repeat)\n",
    "    target_upsampled = pd.concat([target_zeros] + [target_ones] * repeat)\n",
    "\n",
    "    features_upsampled, target_upsampled = shuffle(features_upsampled, target_upsampled, random_state=12345)\n",
    "\n",
    "    return features_upsampled, target_upsampled"
   ]
  },
  {
   "cell_type": "code",
   "execution_count": 19,
   "id": "e3525fef-4367-475c-9956-5f5e812fabb3",
   "metadata": {},
   "outputs": [
    {
     "name": "stdout",
     "output_type": "stream",
     "text": [
      "repeat = 1 : 0.36604774535809015\n",
      "repeat = 2 : 0.5366726296958856\n",
      "repeat = 3 : 0.5171428571428571\n",
      "repeat = 4 : 0.5231143552311435\n",
      "repeat = 5 : 0.5123258306538049\n",
      "repeat = 6 : 0.48180924287118976\n",
      "repeat = 7 : 0.462962962962963\n",
      "repeat = 8 : 0.45309734513274336\n",
      "repeat = 9 : 0.4395229982964225\n",
      "repeat = 10 : 0.4342762063227953\n",
      "\n",
      "F1 score of the best logistic regression model (using repeat = 2) on the training set: 0.5366726296958856\n"
     ]
    }
   ],
   "source": [
    "# Parameter tuning: find best repeat value\n",
    "features_zeros = features_train_ohe[target_train_ohe == 0]\n",
    "features_ones = features_train_ohe[target_train_ohe == 1]\n",
    "target_zeros = target_train_ohe[target_train_ohe == 0]\n",
    "target_ones = target_train_ohe[target_train_ohe == 1]\n",
    "\n",
    "best_repeat = None\n",
    "best_f1 = 0\n",
    "\n",
    "for repeat in range(1, 11):\n",
    "    features_upsampled = pd.concat([features_zeros] + [features_ones] * repeat)\n",
    "    target_upsampled = pd.concat([target_zeros] + [target_ones] * repeat)\n",
    "\n",
    "    features_upsampled, target_upsampled = upsample(features_train_ohe, target_train_ohe, repeat)\n",
    "    \n",
    "    # Retrain the model using the new data\n",
    "    model = LogisticRegression(random_state=12345, solver='liblinear')\n",
    "    model.fit(features_upsampled, target_upsampled)\n",
    "\n",
    "    # Find predictions\n",
    "    predicted_valid = model.predict(features_valid_ohe)\n",
    "\n",
    "    # Calculate F1 score\n",
    "    f1 = f1_score(target_valid_ohe, predicted_valid)\n",
    "    \n",
    "    print(f'repeat = {repeat} : {f1}')\n",
    "\n",
    "    if (f1 > best_f1):\n",
    "        best_repeat = repeat\n",
    "        best_f1 = f1\n",
    "\n",
    "print()\n",
    "print(f'F1 score of the best logistic regression model (using repeat = {best_repeat}) on the training set: {best_f1}')"
   ]
  },
  {
   "cell_type": "code",
   "execution_count": 20,
   "id": "45305a75-9aaa-443f-8159-9c28d099dafb",
   "metadata": {},
   "outputs": [],
   "source": [
    "features_ohe_upsampled, target_ohe_upsampled = upsample(features_train_ohe, target_train_ohe, 2)"
   ]
  },
  {
   "cell_type": "code",
   "execution_count": 21,
   "id": "a8714854-5467-42eb-aea4-0e45f1e49d7d",
   "metadata": {},
   "outputs": [],
   "source": [
    "def downsample(features, target, fraction):\n",
    "    # Split the training sample into negative & positive observations\n",
    "    features_zeros = features[target == 0]\n",
    "    features_ones = features[target == 1]\n",
    "    target_zeros = target[target == 0]\n",
    "    target_ones = target[target == 1]\n",
    "\n",
    "    features_downsampled = pd.concat([features_zeros.sample(frac=fraction, random_state=12345)] + [features_ones])\n",
    "    target_downsampled = pd.concat([target_zeros.sample(frac=fraction, random_state=12345)] + [target_ones])\n",
    "    \n",
    "    features_downsampled, target_downsampled = shuffle(features_downsampled, target_downsampled, random_state=12345)\n",
    "    \n",
    "    return features_downsampled, target_downsampled"
   ]
  },
  {
   "cell_type": "code",
   "execution_count": 22,
   "id": "7ce52258-f340-46d8-951a-ee8bd7cb93b6",
   "metadata": {},
   "outputs": [
    {
     "name": "stdout",
     "output_type": "stream",
     "text": [
      "fraction = 0.1 : 0.4406490179333903\n",
      "fraction = 0.2 : 0.5156418554476807\n",
      "fraction = 0.3 : 0.53315649867374\n",
      "fraction = 0.4 : 0.5403726708074533\n",
      "fraction = 0.5 : 0.5232974910394266\n",
      "fraction = 0.6 : 0.4949698189134809\n",
      "fraction = 0.7 : 0.47161572052401746\n",
      "fraction = 0.8 : 0.45130641330166277\n",
      "fraction = 0.9 : 0.4122137404580153\n",
      "fraction = 1.0 : 0.36604774535809015\n",
      "\n",
      "F1 score of the best logistic regression model (using fraction = 0.4) on the training set: 0.5403726708074533\n"
     ]
    }
   ],
   "source": [
    "# Parameter tuning: find best fraction value\n",
    "start = 0.1\n",
    "end = 1.0\n",
    "interval = 0.1\n",
    "best_fraction = None\n",
    "best_f1 = 0\n",
    "current = start\n",
    "\n",
    "while current <= end:\n",
    "    features_downsampled = pd.concat([features_zeros.sample(frac=current, random_state=12345)] + [features_ones])\n",
    "    target_downsampled = pd.concat([target_zeros.sample(frac=current, random_state=12345)] + [target_ones])\n",
    "    \n",
    "    features_downsampled, target_downsampled = shuffle(features_downsampled, target_downsampled, random_state=12345)\n",
    "\n",
    "    # Retrain the model using the new data\n",
    "    model = LogisticRegression(random_state=12345, solver='liblinear')\n",
    "    model.fit(features_downsampled, target_downsampled)\n",
    "\n",
    "    # Find predictions\n",
    "    predicted_valid = model.predict(features_valid_ohe)\n",
    "\n",
    "    # Calculate F1 score\n",
    "    f1 = f1_score(target_valid_ohe, predicted_valid)\n",
    "\n",
    "    print(f'fraction = {current:.1f} : {f1}')\n",
    "\n",
    "    if (f1 > best_f1):\n",
    "        best_fraction = current\n",
    "        best_f1 = f1\n",
    "\n",
    "    current += interval\n",
    "\n",
    "print()\n",
    "print(f'F1 score of the best logistic regression model (using fraction = {best_fraction}) on the training set: {best_f1}')"
   ]
  },
  {
   "cell_type": "code",
   "execution_count": 23,
   "id": "ab3d840a-2ae4-4563-872d-2304344dbd08",
   "metadata": {},
   "outputs": [],
   "source": [
    "features_ohe_downsampled, target_ohe_downsampled = downsample(features_train_ohe, target_train_ohe, 0.4)"
   ]
  },
  {
   "cell_type": "markdown",
   "id": "4207f84d-f2b2-4476-b7b7-83576d2fa150",
   "metadata": {},
   "source": [
    "Before we continue, we create helper functions to be able to get upsampled and downsampled results easier."
   ]
  },
  {
   "cell_type": "markdown",
   "id": "694f8883-8591-419e-b983-0051dd485870",
   "metadata": {},
   "source": [
    "#### Balancing with class weight & upsampling"
   ]
  },
  {
   "cell_type": "code",
   "execution_count": 24,
   "id": "22627600-b2b5-498b-ae83-69c984e1ee1c",
   "metadata": {
    "scrolled": true
   },
   "outputs": [
    {
     "name": "stdout",
     "output_type": "stream",
     "text": [
      "F1 score: 0.5260196905766525\n",
      "Accuracy score: 0.7099827882960413\n"
     ]
    },
    {
     "data": {
      "image/png": "[encoded data removed]",
      "text/plain": [
       "<Figure size 432x288 with 2 Axes>"
      ]
     },
     "metadata": {},
     "output_type": "display_data"
    },
    {
     "data": {
      "image/png": "[encoded data removed]",
      "text/plain": [
       "<Figure size 432x288 with 1 Axes>"
      ]
     },
     "metadata": {},
     "output_type": "display_data"
    },
    {
     "name": "stdout",
     "output_type": "stream",
     "text": [
      "AUC-ROC value: 0.7821387304782138\n"
     ]
    }
   ],
   "source": [
    "model = LogisticRegression(random_state=12345, class_weight='balanced', solver='liblinear')\n",
    "model.fit(features_ohe_upsampled, target_ohe_upsampled)\n",
    "\n",
    "# Find predictions\n",
    "predicted_valid = model.predict(features_valid_ohe)\n",
    "\n",
    "# Evaluate the model\n",
    "print_model_evaluation(model, features_valid_ohe, target_valid_ohe, predicted_valid)"
   ]
  },
  {
   "cell_type": "markdown",
   "id": "918d09aa-f5b9-4871-a999-984a2245317d",
   "metadata": {},
   "source": [
    "Now we being to improve the quality of the model, first by balancing the classes using the `class_weight` parameter and training the model using upsampled data. Both the F1 score and AUC-ROC value have improved, but the F1 score is still below our **0.59** target."
   ]
  },
  {
   "cell_type": "markdown",
   "id": "6be10dd5-fdcc-47ff-96d7-7fdf172b2671",
   "metadata": {},
   "source": [
    "#### Balancing with class weight & downsampling"
   ]
  },
  {
   "cell_type": "code",
   "execution_count": 25,
   "id": "284a6b4d-81f1-4382-b9ae-f02b1b5134eb",
   "metadata": {
    "scrolled": true
   },
   "outputs": [
    {
     "name": "stdout",
     "output_type": "stream",
     "text": [
      "F1 score: 0.518005540166205\n",
      "Accuracy score: 0.7005163511187608\n"
     ]
    },
    {
     "data": {
      "image/png": "[encoded data removed]",
      "text/plain": [
       "<Figure size 432x288 with 2 Axes>"
      ]
     },
     "metadata": {},
     "output_type": "display_data"
    },
    {
     "data": {
      "image/png": "[encoded data removed]",
      "text/plain": [
       "<Figure size 432x288 with 1 Axes>"
      ]
     },
     "metadata": {},
     "output_type": "display_data"
    },
    {
     "name": "stdout",
     "output_type": "stream",
     "text": [
      "AUC-ROC value: 0.7817494336559527\n"
     ]
    }
   ],
   "source": [
    "model = LogisticRegression(random_state=12345, class_weight='balanced', solver='liblinear')\n",
    "model.fit(features_ohe_downsampled, target_ohe_downsampled)\n",
    "\n",
    "# Find predictions\n",
    "predicted_valid = model.predict(features_valid_ohe)\n",
    "\n",
    "# Evaluate the model\n",
    "print_model_evaluation(model, features_valid_ohe, target_valid_ohe, predicted_valid)"
   ]
  },
  {
   "cell_type": "markdown",
   "id": "d44aa02a-b5be-4ad8-a348-d3684947179f",
   "metadata": {},
   "source": [
    "We try downsampling next, and see slightly lower performance for the F1 score and AUC-ROC value as compared to the previous upsampling results. We might need to rule out the logistic regression model at this point, as the results are below our target."
   ]
  },
  {
   "cell_type": "markdown",
   "id": "36f017dc-7693-4ded-a123-045fe881e811",
   "metadata": {},
   "source": [
    "### Decision Tree & Random Forest: Feature preparation"
   ]
  },
  {
   "cell_type": "markdown",
   "id": "4c561e19-cd00-4dc3-898e-c7cec1729c8e",
   "metadata": {},
   "source": [
    "#### Encode features"
   ]
  },
  {
   "cell_type": "code",
   "execution_count": 26,
   "id": "b2f4648e-5b18-42f7-b49b-f21957e4d81f",
   "metadata": {},
   "outputs": [],
   "source": [
    "# Transform the data\n",
    "encoder = OrdinalEncoder()\n",
    "df_churn_ordinal = pd.DataFrame(encoder.fit_transform(df_churn_cleaned), columns=df_churn_cleaned.columns)\n",
    "features_ordinal = df_churn_ordinal.drop('Exited', axis=1)\n",
    "target_ordinal = df_churn_ordinal['Exited']\n",
    "\n",
    "# Split the data\n",
    "features_train_ordinal, features_remaining_ordinal, target_train_ordinal, target_remaining_ordinal = train_test_split(features_ordinal, target_ordinal, test_size=0.4, random_state=12345)\n",
    "features_valid_ordinal, features_test_ordinal, target_valid_ordinal, target_test_ordinal = train_test_split(features_remaining_ordinal, target_remaining_ordinal, test_size=0.5, random_state=12345)"
   ]
  },
  {
   "cell_type": "markdown",
   "id": "f36ce807-83a5-4013-b28a-c11414e1970d",
   "metadata": {},
   "source": [
    "#### Scale features"
   ]
  },
  {
   "cell_type": "code",
   "execution_count": 27,
   "id": "2ea5d903-d778-4888-b8f8-c5d5bb53a578",
   "metadata": {},
   "outputs": [
    {
     "name": "stderr",
     "output_type": "stream",
     "text": [
      "/tmp/ipykernel_76/306198331.py:6: SettingWithCopyWarning: \n",
      "A value is trying to be set on a copy of a slice from a DataFrame.\n",
      "Try using .loc[row_indexer,col_indexer] = value instead\n",
      "\n",
      "See the caveats in the documentation: https://pandas.pydata.org/pandas-docs/stable/user_guide/indexing.html#returning-a-view-versus-a-copy\n",
      "  features_train_ordinal[numeric_features] = scaler.transform(features_train_ordinal[numeric_features])\n",
      "/opt/conda/lib/python3.9/site-packages/pandas/core/indexing.py:1637: SettingWithCopyWarning: \n",
      "A value is trying to be set on a copy of a slice from a DataFrame\n",
      "\n",
      "See the caveats in the documentation: https://pandas.pydata.org/pandas-docs/stable/user_guide/indexing.html#returning-a-view-versus-a-copy\n",
      "  self._setitem_single_block(indexer, value, name)\n",
      "/opt/conda/lib/python3.9/site-packages/pandas/core/indexing.py:692: SettingWithCopyWarning: \n",
      "A value is trying to be set on a copy of a slice from a DataFrame\n",
      "\n",
      "See the caveats in the documentation: https://pandas.pydata.org/pandas-docs/stable/user_guide/indexing.html#returning-a-view-versus-a-copy\n",
      "  iloc._setitem_with_indexer(indexer, value, self.name)\n",
      "/tmp/ipykernel_76/306198331.py:7: SettingWithCopyWarning: \n",
      "A value is trying to be set on a copy of a slice from a DataFrame.\n",
      "Try using .loc[row_indexer,col_indexer] = value instead\n",
      "\n",
      "See the caveats in the documentation: https://pandas.pydata.org/pandas-docs/stable/user_guide/indexing.html#returning-a-view-versus-a-copy\n",
      "  features_valid_ordinal[numeric_features] = scaler.transform(features_valid_ordinal[numeric_features])\n",
      "/opt/conda/lib/python3.9/site-packages/pandas/core/indexing.py:1637: SettingWithCopyWarning: \n",
      "A value is trying to be set on a copy of a slice from a DataFrame\n",
      "\n",
      "See the caveats in the documentation: https://pandas.pydata.org/pandas-docs/stable/user_guide/indexing.html#returning-a-view-versus-a-copy\n",
      "  self._setitem_single_block(indexer, value, name)\n",
      "/opt/conda/lib/python3.9/site-packages/pandas/core/indexing.py:692: SettingWithCopyWarning: \n",
      "A value is trying to be set on a copy of a slice from a DataFrame\n",
      "\n",
      "See the caveats in the documentation: https://pandas.pydata.org/pandas-docs/stable/user_guide/indexing.html#returning-a-view-versus-a-copy\n",
      "  iloc._setitem_with_indexer(indexer, value, self.name)\n",
      "/tmp/ipykernel_76/306198331.py:8: SettingWithCopyWarning: \n",
      "A value is trying to be set on a copy of a slice from a DataFrame.\n",
      "Try using .loc[row_indexer,col_indexer] = value instead\n",
      "\n",
      "See the caveats in the documentation: https://pandas.pydata.org/pandas-docs/stable/user_guide/indexing.html#returning-a-view-versus-a-copy\n",
      "  features_test_ordinal[numeric_features] = scaler.transform(features_test_ordinal[numeric_features])\n",
      "/opt/conda/lib/python3.9/site-packages/pandas/core/indexing.py:1637: SettingWithCopyWarning: \n",
      "A value is trying to be set on a copy of a slice from a DataFrame\n",
      "\n",
      "See the caveats in the documentation: https://pandas.pydata.org/pandas-docs/stable/user_guide/indexing.html#returning-a-view-versus-a-copy\n",
      "  self._setitem_single_block(indexer, value, name)\n",
      "/opt/conda/lib/python3.9/site-packages/pandas/core/indexing.py:692: SettingWithCopyWarning: \n",
      "A value is trying to be set on a copy of a slice from a DataFrame\n",
      "\n",
      "See the caveats in the documentation: https://pandas.pydata.org/pandas-docs/stable/user_guide/indexing.html#returning-a-view-versus-a-copy\n",
      "  iloc._setitem_with_indexer(indexer, value, self.name)\n"
     ]
    }
   ],
   "source": [
    "# Standardize the data\n",
    "scaler = StandardScaler()\n",
    "scaler.fit(features_train_ordinal[numeric_features])\n",
    "\n",
    "# Transform the data\n",
    "features_train_ordinal[numeric_features] = scaler.transform(features_train_ordinal[numeric_features])\n",
    "features_valid_ordinal[numeric_features] = scaler.transform(features_valid_ordinal[numeric_features])\n",
    "features_test_ordinal[numeric_features] = scaler.transform(features_test_ordinal[numeric_features])"
   ]
  },
  {
   "cell_type": "markdown",
   "id": "974a3e0d-0080-49f7-8aac-7371a173465a",
   "metadata": {},
   "source": [
    "Moving on, we take care of feature encoding and scaling for both the **decision tree** and **random forest** models, which we'll be using for training next.\n",
    "\n",
    "For these tree-based algorithms, we need to encode specially using label encoding via an ordinal encoder."
   ]
  },
  {
   "cell_type": "markdown",
   "id": "db4a9c74-1540-443e-902b-dc8be724d2f9",
   "metadata": {},
   "source": [
    "### Decision Tree: Classification metrics"
   ]
  },
  {
   "cell_type": "code",
   "execution_count": 28,
   "id": "dfc03be7-3647-4e9f-8bfb-bd8630348d62",
   "metadata": {},
   "outputs": [],
   "source": [
    "def decision_tree_hyperparameter_tuning(balanced):\n",
    "    weight = 'balanced' if balanced == True else None\n",
    "    \n",
    "    # Find the best F1 score and depth with class imbalance\n",
    "    best_model = None\n",
    "    best_f1_score = 0\n",
    "    best_depth = 0\n",
    "    \n",
    "    for depth in range(1, 11):\n",
    "        # Create the model\n",
    "        model = DecisionTreeClassifier(random_state=12345, max_depth=depth, class_weight=weight)\n",
    "        \n",
    "        # Train the model\n",
    "        model.fit(features_train_ordinal, target_train_ordinal)\n",
    "    \n",
    "        # Find predictions\n",
    "        predicted_valid = model.predict(features_valid_ordinal)\n",
    "\n",
    "        # Calculate F1 score\n",
    "        f1 = f1_score(target_valid_ordinal, predicted_valid)\n",
    "    \n",
    "        # Print quality of training set\n",
    "        print(f'max_depth = {depth} : {f1}')\n",
    "    \n",
    "        if (f1 > best_f1_score):\n",
    "            best_model = model\n",
    "            best_f1_score = f1\n",
    "            best_depth = depth\n",
    "    \n",
    "    print()\n",
    "    print(f'F1 score of the best decision tree model (using max_depth = {best_depth}) on the training set: {best_f1_score}')"
   ]
  },
  {
   "cell_type": "markdown",
   "id": "bc64ab96-b3b6-44e1-a797-c73e2e0beff5",
   "metadata": {},
   "source": [
    "We create a helper function to try to determine the best decision tree model by accuracy and max depth that can accommodate whether to account for the `class_weight` paramter or not in training the model. Our `max_depth` range is kept to 10 max, as to avoid overfitting the model."
   ]
  },
  {
   "cell_type": "code",
   "execution_count": 29,
   "id": "1d76a8f6-bea9-4398-aa20-87294729f3e5",
   "metadata": {},
   "outputs": [
    {
     "name": "stdout",
     "output_type": "stream",
     "text": [
      "max_depth = 1 : 0.0\n",
      "max_depth = 2 : 0.5540540540540541\n",
      "max_depth = 3 : 0.49350649350649356\n",
      "max_depth = 4 : 0.5063291139240506\n",
      "max_depth = 5 : 0.5740740740740741\n",
      "max_depth = 6 : 0.556745182012848\n",
      "max_depth = 7 : 0.5458715596330275\n",
      "max_depth = 8 : 0.567032967032967\n",
      "max_depth = 9 : 0.5486725663716814\n",
      "max_depth = 10 : 0.5483870967741935\n",
      "\n",
      "F1 score of the best decision tree model (using max_depth = 5) on the training set: 0.5740740740740741\n"
     ]
    }
   ],
   "source": [
    "# Find the best score and depth with class imbalance\n",
    "decision_tree_hyperparameter_tuning(False)"
   ]
  },
  {
   "cell_type": "code",
   "execution_count": 30,
   "id": "6a46b500-1b23-48fd-b013-d400bb6e9db9",
   "metadata": {},
   "outputs": [
    {
     "name": "stdout",
     "output_type": "stream",
     "text": [
      "max_depth = 1 : 0.5216\n",
      "max_depth = 2 : 0.5643410852713179\n",
      "max_depth = 3 : 0.5769854132901134\n",
      "max_depth = 4 : 0.5642737896494157\n",
      "max_depth = 5 : 0.5403225806451614\n",
      "max_depth = 6 : 0.5431309904153355\n",
      "max_depth = 7 : 0.5329512893982808\n",
      "max_depth = 8 : 0.5415384615384615\n",
      "max_depth = 9 : 0.5250379362670714\n",
      "max_depth = 10 : 0.5393939393939393\n",
      "\n",
      "F1 score of the best decision tree model (using max_depth = 3) on the training set: 0.5769854132901134\n"
     ]
    }
   ],
   "source": [
    "# Find the best score and depth with balanced class\n",
    "decision_tree_hyperparameter_tuning(True)"
   ]
  },
  {
   "cell_type": "markdown",
   "id": "9d08ce2a-4f39-4c43-99c7-ababd6d06d05",
   "metadata": {},
   "source": [
    "### Decision Tree: Fix imbalance of classes"
   ]
  },
  {
   "cell_type": "code",
   "execution_count": 31,
   "id": "83964883-2f82-420e-a9ad-72e5873fc842",
   "metadata": {},
   "outputs": [
    {
     "name": "stdout",
     "output_type": "stream",
     "text": [
      "repeat = 1 : 0.49350649350649356\n",
      "repeat = 2 : 0.5803278688524591\n",
      "repeat = 3 : 0.5769854132901134\n",
      "repeat = 4 : 0.5769854132901134\n",
      "repeat = 5 : 0.4726911618669315\n",
      "repeat = 6 : 0.4554637281910009\n",
      "repeat = 7 : 0.4554637281910009\n",
      "repeat = 8 : 0.4554637281910009\n",
      "repeat = 9 : 0.4554637281910009\n",
      "repeat = 10 : 0.4554637281910009\n",
      "\n",
      "F1 score of the best logistic regression model (using repeat = 2) on the training set: 0.5803278688524591\n"
     ]
    }
   ],
   "source": [
    "# Parameter tuning: find best repeat value\n",
    "features_zeros = features_train_ordinal[target_train_ordinal == 0]\n",
    "features_ones = features_train_ordinal[target_train_ordinal == 1]\n",
    "target_zeros = target_train_ordinal[target_train_ordinal == 0]\n",
    "target_ones = target_train_ordinal[target_train_ordinal == 1]\n",
    "\n",
    "best_repeat = None\n",
    "best_f1 = 0\n",
    "\n",
    "for repeat in range(1, 11):\n",
    "    features_upsampled = pd.concat([features_zeros] + [features_ones] * repeat)\n",
    "    target_upsampled = pd.concat([target_zeros] + [target_ones] * repeat)\n",
    "\n",
    "    features_upsampled, target_upsampled = upsample(features_train_ordinal, target_train_ordinal, repeat)\n",
    "    \n",
    "    # Retrain the model using the new data\n",
    "    model = DecisionTreeClassifier(random_state=12345, max_depth=3)\n",
    "    model.fit(features_upsampled, target_upsampled)\n",
    "\n",
    "    # Find predictions\n",
    "    predicted_valid = model.predict(features_valid_ordinal)\n",
    "\n",
    "    # Calculate F1 score\n",
    "    f1 = f1_score(target_valid_ordinal, predicted_valid)\n",
    "    \n",
    "    print(f'repeat = {repeat} : {f1}')\n",
    "\n",
    "    if (f1 > best_f1):\n",
    "        best_repeat = repeat\n",
    "        best_f1 = f1\n",
    "\n",
    "print()\n",
    "print(f'F1 score of the best logistic regression model (using repeat = {best_repeat}) on the training set: {best_f1}')"
   ]
  },
  {
   "cell_type": "code",
   "execution_count": 32,
   "id": "ffefbe15-a8ce-462c-91fe-2abe818736dc",
   "metadata": {},
   "outputs": [],
   "source": [
    "features_ordinal_upsampled, target_ordinal_upsampled = upsample(features_train_ordinal, target_train_ordinal, 2)"
   ]
  },
  {
   "cell_type": "markdown",
   "id": "ef52190c-26f3-41b3-928a-af16b4467236",
   "metadata": {},
   "source": [
    "#### Balancing with class weight & upsampling"
   ]
  },
  {
   "cell_type": "code",
   "execution_count": 33,
   "id": "755b0ad9-7007-4ef7-a539-052bfb32e012",
   "metadata": {
    "scrolled": true
   },
   "outputs": [
    {
     "name": "stdout",
     "output_type": "stream",
     "text": [
      "F1 score: 0.5769854132901134\n",
      "Accuracy score: 0.7753872633390706\n"
     ]
    },
    {
     "data": {
      "image/png": "[encoded data removed]",
      "text/plain": [
       "<Figure size 432x288 with 2 Axes>"
      ]
     },
     "metadata": {},
     "output_type": "display_data"
    },
    {
     "data": {
      "image/png": "[encoded data removed]",
      "text/plain": [
       "<Figure size 432x288 with 1 Axes>"
      ]
     },
     "metadata": {},
     "output_type": "display_data"
    },
    {
     "name": "stdout",
     "output_type": "stream",
     "text": [
      "AUC-ROC value: 0.7879015658843456\n"
     ]
    }
   ],
   "source": [
    "# Create and train the model\n",
    "model = DecisionTreeClassifier(random_state=12345, max_depth=3, class_weight='balanced')\n",
    "model.fit(features_ordinal_upsampled, target_ordinal_upsampled)\n",
    "\n",
    "# Find predictions\n",
    "predicted_valid = model.predict(features_valid_ordinal)\n",
    "\n",
    "# Evaluate the model\n",
    "print_model_evaluation(model, features_valid_ordinal, target_valid_ordinal, predicted_valid)"
   ]
  },
  {
   "cell_type": "markdown",
   "id": "db65641d-2fa4-48a5-9cfc-b75457505eef",
   "metadata": {},
   "source": [
    "Using the decision tree model, we balance the classes using the `class_weight` parameter and train the model using upsampled data. Our results are a small improvement over our previous logistic regression models."
   ]
  },
  {
   "cell_type": "code",
   "execution_count": 34,
   "id": "3d8aa167-ecca-4d8a-a8c6-36e35e25331b",
   "metadata": {},
   "outputs": [
    {
     "name": "stdout",
     "output_type": "stream",
     "text": [
      "fraction = 0.1 : 0.4745762711864407\n",
      "fraction = 0.2 : 0.4752275025278059\n",
      "fraction = 0.3 : 0.5823223570190641\n",
      "fraction = 0.4 : 0.5823223570190641\n",
      "fraction = 0.5 : 0.5823223570190641\n",
      "fraction = 0.6 : 0.5677655677655677\n",
      "fraction = 0.7 : 0.5824561403508772\n",
      "fraction = 0.8 : 0.5777777777777778\n",
      "fraction = 0.9 : 0.5025906735751295\n",
      "fraction = 1.0 : 0.49350649350649356\n",
      "\n",
      "F1 score of the best decision tree model (using fraction = 0.7) on the training set: 0.5824561403508772\n"
     ]
    }
   ],
   "source": [
    "# Parameter tuning: find best fraction value\n",
    "start = 0.1\n",
    "end = 1.0\n",
    "interval = 0.1\n",
    "best_fraction = None\n",
    "best_f1 = 0\n",
    "current = start\n",
    "\n",
    "while current <= end:\n",
    "    features_downsampled = pd.concat([features_zeros.sample(frac=current, random_state=12345)] + [features_ones])\n",
    "    target_downsampled = pd.concat([target_zeros.sample(frac=current, random_state=12345)] + [target_ones])\n",
    "    \n",
    "    features_downsampled, target_downsampled = shuffle(features_downsampled, target_downsampled, random_state=12345)\n",
    "\n",
    "    # Retrain the model using the new data\n",
    "    model = DecisionTreeClassifier(random_state=12345, max_depth=3)\n",
    "    model.fit(features_downsampled, target_downsampled)\n",
    "\n",
    "    # Find predictions\n",
    "    predicted_valid = model.predict(features_valid_ordinal)\n",
    "\n",
    "    # Calculate F1 score\n",
    "    f1 = f1_score(target_valid_ordinal, predicted_valid)\n",
    "\n",
    "    print(f'fraction = {current:.1f} : {f1}')\n",
    "\n",
    "    if (f1 > best_f1):\n",
    "        best_fraction = current\n",
    "        best_f1 = f1\n",
    "\n",
    "    current += interval\n",
    "\n",
    "print()\n",
    "print(f'F1 score of the best decision tree model (using fraction = {best_fraction}) on the training set: {best_f1}')"
   ]
  },
  {
   "cell_type": "code",
   "execution_count": 35,
   "id": "a0d842df-7bc9-43fd-8435-08ca1fc608da",
   "metadata": {},
   "outputs": [],
   "source": [
    "features_ordinal_downsampled, target_ordinal_downsampled = downsample(features_train_ordinal, target_train_ordinal, 0.7)"
   ]
  },
  {
   "cell_type": "markdown",
   "id": "56d57c7c-5865-4262-a9e4-3462d564404e",
   "metadata": {},
   "source": [
    "#### Balancing with class weight & downsampling"
   ]
  },
  {
   "cell_type": "code",
   "execution_count": 36,
   "id": "870e8d0d-6dfc-474a-8c2c-2c1b0d9ab6cb",
   "metadata": {},
   "outputs": [
    {
     "name": "stdout",
     "output_type": "stream",
     "text": [
      "F1 score: 0.5406824146981627\n",
      "Accuracy score: 0.6987951807228916\n"
     ]
    },
    {
     "data": {
      "image/png": "[encoded data removed]",
      "text/plain": [
       "<Figure size 432x288 with 2 Axes>"
      ]
     },
     "metadata": {},
     "output_type": "display_data"
    },
    {
     "data": {
      "image/png": "[encoded data removed]",
      "text/plain": [
       "<Figure size 432x288 with 1 Axes>"
      ]
     },
     "metadata": {},
     "output_type": "display_data"
    },
    {
     "name": "stdout",
     "output_type": "stream",
     "text": [
      "AUC-ROC value: 0.794830221029483\n"
     ]
    }
   ],
   "source": [
    "# Create and train the model\n",
    "model = DecisionTreeClassifier(random_state=12345, max_depth=3, class_weight='balanced')\n",
    "model.fit(features_ordinal_downsampled, target_ordinal_downsampled)\n",
    "\n",
    "# Find predictions\n",
    "predicted_valid = model.predict(features_valid_ordinal)\n",
    "\n",
    "# Evaluate the model\n",
    "print_model_evaluation(model, features_valid_ordinal, target_valid_ordinal, predicted_valid)"
   ]
  },
  {
   "cell_type": "markdown",
   "id": "260881f8-2f4f-4fda-aad4-1175eec09f73",
   "metadata": {},
   "source": [
    "We try downsampling next, but don't see an improvement with the F1 score (although the AUC-ROC value has slightly improved over the upsampling results). We move onto random forest next to see if it can do better than the previous two regression models."
   ]
  },
  {
   "cell_type": "markdown",
   "id": "c8288208-542e-4243-9482-c96142eb9d69",
   "metadata": {},
   "source": [
    "### Random Forest: Classification metrics"
   ]
  },
  {
   "cell_type": "code",
   "execution_count": 37,
   "id": "f2b3879e-0f24-4d4f-94b4-0c6c04679f71",
   "metadata": {},
   "outputs": [],
   "source": [
    "def random_forest_hyperparameter_tuning(balanced):\n",
    "    weight = 'balanced' if balanced == True else None\n",
    "\n",
    "    best_f1_score = 0\n",
    "    best_est = 0\n",
    "    best_depth = 0\n",
    "    \n",
    "    for est in range(10, 101, 10):\n",
    "        for depth in range(1, 11):\n",
    "            # Create the model\n",
    "            model = RandomForestClassifier(random_state=12345, n_estimators=est, max_depth=depth, class_weight=weight)\n",
    "            \n",
    "            # Train the model\n",
    "            model.fit(features_train_ordinal, target_train_ordinal)\n",
    "\n",
    "            # Find predictions\n",
    "            predicted_valid = model.predict(features_valid_ordinal)\n",
    "        \n",
    "            # Calculate F1 score\n",
    "            f1 = f1_score(target_valid_ordinal, predicted_valid)\n",
    "        \n",
    "            # Print quality of training set\n",
    "            print(f'n_estimators = {est}, max_depth = {depth} : {f1}')\n",
    "        \n",
    "            if f1 > best_f1_score:\n",
    "                best_f1_score = f1\n",
    "                best_est = est\n",
    "                best_depth = depth\n",
    "    \n",
    "    print()\n",
    "    print(f'F1 score of the best random forest model using n_estimators = {best_est} and max_depth = {depth} on the validation set: {best_f1_score}')"
   ]
  },
  {
   "cell_type": "markdown",
   "id": "e3d8ea4c-48a8-45f2-af6c-a1b99c81b6b4",
   "metadata": {},
   "source": [
    "As with the decision tree model, we create a helper function to try to determine the best random forest model by accuracy, number of estimators, and max depth, which can also accommodate whether to account for the `class_weight` paramter or not in training the model."
   ]
  },
  {
   "cell_type": "code",
   "execution_count": 38,
   "id": "0f4f9576-6557-4b14-becb-297a8da49003",
   "metadata": {},
   "outputs": [
    {
     "name": "stdout",
     "output_type": "stream",
     "text": [
      "n_estimators = 10, max_depth = 1 : 0.09154929577464789\n",
      "n_estimators = 10, max_depth = 2 : 0.1501706484641638\n",
      "n_estimators = 10, max_depth = 3 : 0.3609467455621302\n",
      "n_estimators = 10, max_depth = 4 : 0.5177664974619289\n",
      "n_estimators = 10, max_depth = 5 : 0.5427872860635696\n",
      "n_estimators = 10, max_depth = 6 : 0.5289672544080605\n",
      "n_estimators = 10, max_depth = 7 : 0.5278450363196125\n",
      "n_estimators = 10, max_depth = 8 : 0.5539906103286385\n",
      "n_estimators = 10, max_depth = 9 : 0.5437352245862884\n",
      "n_estimators = 10, max_depth = 10 : 0.5520361990950226\n",
      "n_estimators = 20, max_depth = 1 : 0.036231884057971016\n",
      "n_estimators = 20, max_depth = 2 : 0.22875816993464052\n",
      "n_estimators = 20, max_depth = 3 : 0.4273504273504274\n",
      "n_estimators = 20, max_depth = 4 : 0.43287671232876707\n",
      "n_estimators = 20, max_depth = 5 : 0.5297029702970296\n",
      "n_estimators = 20, max_depth = 6 : 0.545\n",
      "n_estimators = 20, max_depth = 7 : 0.5333333333333333\n",
      "n_estimators = 20, max_depth = 8 : 0.5609756097560976\n",
      "n_estimators = 20, max_depth = 9 : 0.5687203791469194\n",
      "n_estimators = 20, max_depth = 10 : 0.5734597156398105\n",
      "n_estimators = 30, max_depth = 1 : 0.0\n",
      "n_estimators = 30, max_depth = 2 : 0.22875816993464052\n",
      "n_estimators = 30, max_depth = 3 : 0.3302752293577982\n",
      "n_estimators = 30, max_depth = 4 : 0.45776566757493187\n",
      "n_estimators = 30, max_depth = 5 : 0.5289672544080605\n",
      "n_estimators = 30, max_depth = 6 : 0.5445544554455446\n",
      "n_estimators = 30, max_depth = 7 : 0.5432098765432098\n",
      "n_estimators = 30, max_depth = 8 : 0.5631067961165049\n",
      "n_estimators = 30, max_depth = 9 : 0.5768321513002364\n",
      "n_estimators = 30, max_depth = 10 : 0.5605700712589073\n",
      "n_estimators = 40, max_depth = 1 : 0.036231884057971016\n",
      "n_estimators = 40, max_depth = 2 : 0.22875816993464052\n",
      "n_estimators = 40, max_depth = 3 : 0.28391167192429023\n",
      "n_estimators = 40, max_depth = 4 : 0.5153061224489797\n",
      "n_estimators = 40, max_depth = 5 : 0.5320197044334976\n",
      "n_estimators = 40, max_depth = 6 : 0.5454545454545455\n",
      "n_estimators = 40, max_depth = 7 : 0.5517241379310345\n",
      "n_estimators = 40, max_depth = 8 : 0.5525672371638142\n",
      "n_estimators = 40, max_depth = 9 : 0.5890736342042755\n",
      "n_estimators = 40, max_depth = 10 : 0.569377990430622\n",
      "n_estimators = 50, max_depth = 1 : 0.0\n",
      "n_estimators = 50, max_depth = 2 : 0.22875816993464052\n",
      "n_estimators = 50, max_depth = 3 : 0.2564102564102564\n",
      "n_estimators = 50, max_depth = 4 : 0.5359801488833746\n",
      "n_estimators = 50, max_depth = 5 : 0.5297029702970296\n",
      "n_estimators = 50, max_depth = 6 : 0.5441176470588235\n",
      "n_estimators = 50, max_depth = 7 : 0.5409429280397022\n",
      "n_estimators = 50, max_depth = 8 : 0.5517241379310345\n",
      "n_estimators = 50, max_depth = 9 : 0.5769230769230769\n",
      "n_estimators = 50, max_depth = 10 : 0.5523809523809524\n",
      "n_estimators = 60, max_depth = 1 : 0.0\n",
      "n_estimators = 60, max_depth = 2 : 0.18729096989966557\n",
      "n_estimators = 60, max_depth = 3 : 0.3414634146341463\n",
      "n_estimators = 60, max_depth = 4 : 0.537313432835821\n",
      "n_estimators = 60, max_depth = 5 : 0.5283950617283951\n",
      "n_estimators = 60, max_depth = 6 : 0.5392156862745098\n",
      "n_estimators = 60, max_depth = 7 : 0.5422885572139304\n",
      "n_estimators = 60, max_depth = 8 : 0.5644768856447688\n",
      "n_estimators = 60, max_depth = 9 : 0.5721153846153846\n",
      "n_estimators = 60, max_depth = 10 : 0.5632458233890215\n",
      "n_estimators = 70, max_depth = 1 : 0.0\n",
      "n_estimators = 70, max_depth = 2 : 0.21710526315789475\n",
      "n_estimators = 70, max_depth = 3 : 0.2619808306709265\n",
      "n_estimators = 70, max_depth = 4 : 0.5326633165829145\n",
      "n_estimators = 70, max_depth = 5 : 0.5210918114143921\n",
      "n_estimators = 70, max_depth = 6 : 0.5432098765432098\n",
      "n_estimators = 70, max_depth = 7 : 0.5432098765432098\n",
      "n_estimators = 70, max_depth = 8 : 0.5560975609756097\n",
      "n_estimators = 70, max_depth = 9 : 0.5714285714285713\n",
      "n_estimators = 70, max_depth = 10 : 0.5617433414043583\n",
      "n_estimators = 80, max_depth = 1 : 0.0\n",
      "n_estimators = 80, max_depth = 2 : 0.21710526315789475\n",
      "n_estimators = 80, max_depth = 3 : 0.3209876543209877\n",
      "n_estimators = 80, max_depth = 4 : 0.535\n",
      "n_estimators = 80, max_depth = 5 : 0.5307125307125307\n",
      "n_estimators = 80, max_depth = 6 : 0.5405405405405406\n",
      "n_estimators = 80, max_depth = 7 : 0.5396039603960395\n",
      "n_estimators = 80, max_depth = 8 : 0.5533980582524273\n",
      "n_estimators = 80, max_depth = 9 : 0.5817307692307692\n",
      "n_estimators = 80, max_depth = 10 : 0.5590361445783132\n",
      "n_estimators = 90, max_depth = 1 : 0.0\n",
      "n_estimators = 90, max_depth = 2 : 0.1933333333333333\n",
      "n_estimators = 90, max_depth = 3 : 0.27848101265822783\n",
      "n_estimators = 90, max_depth = 4 : 0.5359801488833746\n",
      "n_estimators = 90, max_depth = 5 : 0.5320197044334976\n",
      "n_estimators = 90, max_depth = 6 : 0.5396039603960395\n",
      "n_estimators = 90, max_depth = 7 : 0.5369458128078818\n",
      "n_estimators = 90, max_depth = 8 : 0.5560975609756097\n",
      "n_estimators = 90, max_depth = 9 : 0.5769230769230769\n",
      "n_estimators = 90, max_depth = 10 : 0.5645933014354068\n",
      "n_estimators = 100, max_depth = 1 : 0.0\n",
      "n_estimators = 100, max_depth = 2 : 0.21710526315789475\n",
      "n_estimators = 100, max_depth = 3 : 0.28391167192429023\n",
      "n_estimators = 100, max_depth = 4 : 0.5386533665835411\n",
      "n_estimators = 100, max_depth = 5 : 0.5263157894736842\n",
      "n_estimators = 100, max_depth = 6 : 0.5356265356265357\n",
      "n_estimators = 100, max_depth = 7 : 0.5405405405405406\n",
      "n_estimators = 100, max_depth = 8 : 0.5560975609756097\n",
      "n_estimators = 100, max_depth = 9 : 0.5769230769230769\n",
      "n_estimators = 100, max_depth = 10 : 0.5714285714285715\n",
      "\n",
      "F1 score of the best random forest model using n_estimators = 40 and max_depth = 10 on the validation set: 0.5890736342042755\n"
     ]
    }
   ],
   "source": [
    "# Find the best score, number of estimators, and depth with class imbalance\n",
    "random_forest_hyperparameter_tuning(False)"
   ]
  },
  {
   "cell_type": "code",
   "execution_count": 39,
   "id": "71853913-c986-490b-8ba5-079b422b7662",
   "metadata": {
    "scrolled": true
   },
   "outputs": [
    {
     "name": "stdout",
     "output_type": "stream",
     "text": [
      "n_estimators = 10, max_depth = 1 : 0.5696594427244581\n",
      "n_estimators = 10, max_depth = 2 : 0.5429292929292929\n",
      "n_estimators = 10, max_depth = 3 : 0.5876623376623377\n",
      "n_estimators = 10, max_depth = 4 : 0.5779816513761468\n",
      "n_estimators = 10, max_depth = 5 : 0.5876623376623377\n",
      "n_estimators = 10, max_depth = 6 : 0.5996810207336523\n",
      "n_estimators = 10, max_depth = 7 : 0.6125211505922166\n",
      "n_estimators = 10, max_depth = 8 : 0.5849387040280211\n",
      "n_estimators = 10, max_depth = 9 : 0.5974499089253188\n",
      "n_estimators = 10, max_depth = 10 : 0.58364312267658\n",
      "n_estimators = 20, max_depth = 1 : 0.5683563748079877\n",
      "n_estimators = 20, max_depth = 2 : 0.5745341614906833\n",
      "n_estimators = 20, max_depth = 3 : 0.5886075949367089\n",
      "n_estimators = 20, max_depth = 4 : 0.5871271585557299\n",
      "n_estimators = 20, max_depth = 5 : 0.5895765472312703\n",
      "n_estimators = 20, max_depth = 6 : 0.5983739837398374\n",
      "n_estimators = 20, max_depth = 7 : 0.5960264900662251\n",
      "n_estimators = 20, max_depth = 8 : 0.5974955277280859\n",
      "n_estimators = 20, max_depth = 9 : 0.6151012891344382\n",
      "n_estimators = 20, max_depth = 10 : 0.6080305927342257\n",
      "n_estimators = 30, max_depth = 1 : 0.57991513437058\n",
      "n_estimators = 30, max_depth = 2 : 0.5727554179566564\n",
      "n_estimators = 30, max_depth = 3 : 0.5852895148669796\n",
      "n_estimators = 30, max_depth = 4 : 0.5855161787365177\n",
      "n_estimators = 30, max_depth = 5 : 0.6029173419773096\n",
      "n_estimators = 30, max_depth = 6 : 0.611842105263158\n",
      "n_estimators = 30, max_depth = 7 : 0.6053511705685619\n",
      "n_estimators = 30, max_depth = 8 : 0.6028368794326241\n",
      "n_estimators = 30, max_depth = 9 : 0.6217228464419476\n",
      "n_estimators = 30, max_depth = 10 : 0.5917602996254681\n",
      "n_estimators = 40, max_depth = 1 : 0.5670731707317073\n",
      "n_estimators = 40, max_depth = 2 : 0.5683563748079877\n",
      "n_estimators = 40, max_depth = 3 : 0.5865834633385336\n",
      "n_estimators = 40, max_depth = 4 : 0.584375\n",
      "n_estimators = 40, max_depth = 5 : 0.5940594059405939\n",
      "n_estimators = 40, max_depth = 6 : 0.612850082372323\n",
      "n_estimators = 40, max_depth = 7 : 0.6086956521739131\n",
      "n_estimators = 40, max_depth = 8 : 0.6074600355239788\n",
      "n_estimators = 40, max_depth = 9 : 0.6130841121495326\n",
      "n_estimators = 40, max_depth = 10 : 0.6068702290076337\n",
      "n_estimators = 50, max_depth = 1 : 0.56797583081571\n",
      "n_estimators = 50, max_depth = 2 : 0.5658093797276853\n",
      "n_estimators = 50, max_depth = 3 : 0.590625\n",
      "n_estimators = 50, max_depth = 4 : 0.5930599369085173\n",
      "n_estimators = 50, max_depth = 5 : 0.6039603960396039\n",
      "n_estimators = 50, max_depth = 6 : 0.6049586776859505\n",
      "n_estimators = 50, max_depth = 7 : 0.6222222222222222\n",
      "n_estimators = 50, max_depth = 8 : 0.6043165467625898\n",
      "n_estimators = 50, max_depth = 9 : 0.6133828996282528\n",
      "n_estimators = 50, max_depth = 10 : 0.6080305927342257\n",
      "n_estimators = 60, max_depth = 1 : 0.5670731707317073\n",
      "n_estimators = 60, max_depth = 2 : 0.5692771084337349\n",
      "n_estimators = 60, max_depth = 3 : 0.5891472868217055\n",
      "n_estimators = 60, max_depth = 4 : 0.5849056603773586\n",
      "n_estimators = 60, max_depth = 5 : 0.5964343598055104\n",
      "n_estimators = 60, max_depth = 6 : 0.6078431372549019\n",
      "n_estimators = 60, max_depth = 7 : 0.616695059625213\n",
      "n_estimators = 60, max_depth = 8 : 0.6024955436720144\n",
      "n_estimators = 60, max_depth = 9 : 0.6093457943925233\n",
      "n_estimators = 60, max_depth = 10 : 0.6080305927342257\n",
      "n_estimators = 70, max_depth = 1 : 0.5670731707317073\n",
      "n_estimators = 70, max_depth = 2 : 0.5718562874251497\n",
      "n_estimators = 70, max_depth = 3 : 0.5897035881435257\n",
      "n_estimators = 70, max_depth = 4 : 0.5962145110410095\n",
      "n_estimators = 70, max_depth = 5 : 0.5990338164251208\n",
      "n_estimators = 70, max_depth = 6 : 0.6098360655737705\n",
      "n_estimators = 70, max_depth = 7 : 0.6201022146507666\n",
      "n_estimators = 70, max_depth = 8 : 0.6000000000000001\n",
      "n_estimators = 70, max_depth = 9 : 0.6165413533834587\n",
      "n_estimators = 70, max_depth = 10 : 0.6045627376425855\n",
      "n_estimators = 80, max_depth = 1 : 0.564885496183206\n",
      "n_estimators = 80, max_depth = 2 : 0.56797583081571\n",
      "n_estimators = 80, max_depth = 3 : 0.5893416927899687\n",
      "n_estimators = 80, max_depth = 4 : 0.589540412044374\n",
      "n_estimators = 80, max_depth = 5 : 0.5996758508914101\n",
      "n_estimators = 80, max_depth = 6 : 0.6075533661740558\n",
      "n_estimators = 80, max_depth = 7 : 0.6198630136986302\n",
      "n_estimators = 80, max_depth = 8 : 0.6046511627906976\n",
      "n_estimators = 80, max_depth = 9 : 0.618867924528302\n",
      "n_estimators = 80, max_depth = 10 : 0.6088631984585742\n",
      "n_estimators = 90, max_depth = 1 : 0.564885496183206\n",
      "n_estimators = 90, max_depth = 2 : 0.572289156626506\n",
      "n_estimators = 90, max_depth = 3 : 0.5908372827804108\n",
      "n_estimators = 90, max_depth = 4 : 0.5962145110410095\n",
      "n_estimators = 90, max_depth = 5 : 0.5964343598055104\n",
      "n_estimators = 90, max_depth = 6 : 0.6065573770491803\n",
      "n_estimators = 90, max_depth = 7 : 0.614334470989761\n",
      "n_estimators = 90, max_depth = 8 : 0.6057347670250897\n",
      "n_estimators = 90, max_depth = 9 : 0.6139359698681732\n",
      "n_estimators = 90, max_depth = 10 : 0.6118546845124283\n",
      "n_estimators = 100, max_depth = 1 : 0.5670731707317073\n",
      "n_estimators = 100, max_depth = 2 : 0.5696969696969697\n",
      "n_estimators = 100, max_depth = 3 : 0.5873015873015872\n",
      "n_estimators = 100, max_depth = 4 : 0.5908372827804108\n",
      "n_estimators = 100, max_depth = 5 : 0.5928338762214984\n",
      "n_estimators = 100, max_depth = 6 : 0.6098360655737705\n",
      "n_estimators = 100, max_depth = 7 : 0.6112054329371817\n",
      "n_estimators = 100, max_depth = 8 : 0.6104129263913824\n",
      "n_estimators = 100, max_depth = 9 : 0.6254681647940076\n",
      "n_estimators = 100, max_depth = 10 : 0.6115384615384615\n",
      "\n",
      "F1 score of the best random forest model using n_estimators = 100 and max_depth = 10 on the validation set: 0.6254681647940076\n"
     ]
    }
   ],
   "source": [
    "# Find the best score, number of estimators, and depth with balanced class\n",
    "random_forest_hyperparameter_tuning(True)"
   ]
  },
  {
   "cell_type": "markdown",
   "id": "7f770377-854d-43e0-8d2e-065a45966cd3",
   "metadata": {},
   "source": [
    "### Random Forest: Fix imbalance of classes"
   ]
  },
  {
   "cell_type": "code",
   "execution_count": 40,
   "id": "08ff2910-dbc2-4c22-924b-983025d43929",
   "metadata": {},
   "outputs": [
    {
     "name": "stdout",
     "output_type": "stream",
     "text": [
      "repeat = 1 : 0.5761904761904763\n",
      "repeat = 2 : 0.61010101010101\n",
      "repeat = 3 : 0.6308243727598566\n",
      "repeat = 4 : 0.6074313408723748\n",
      "repeat = 5 : 0.6020864381520119\n",
      "repeat = 6 : 0.5870786516853933\n",
      "repeat = 7 : 0.5790884718498659\n",
      "repeat = 8 : 0.5641025641025641\n",
      "repeat = 9 : 0.548148148148148\n",
      "repeat = 10 : 0.5504807692307693\n",
      "\n",
      "F1 score of the best logistic regression model (using repeat = 3) on the training set: 0.6308243727598566\n"
     ]
    }
   ],
   "source": [
    "# Parameter tuning: find best repeat value\n",
    "features_zeros = features_train_ordinal[target_train_ordinal == 0]\n",
    "features_ones = features_train_ordinal[target_train_ordinal == 1]\n",
    "target_zeros = target_train_ordinal[target_train_ordinal == 0]\n",
    "target_ones = target_train_ordinal[target_train_ordinal == 1]\n",
    "\n",
    "best_repeat = None\n",
    "best_f1 = 0\n",
    "\n",
    "for repeat in range(1, 11):\n",
    "    features_upsampled = pd.concat([features_zeros] + [features_ones] * repeat)\n",
    "    target_upsampled = pd.concat([target_zeros] + [target_ones] * repeat)\n",
    "\n",
    "    features_upsampled, target_upsampled = upsample(features_train_ordinal, target_train_ordinal, repeat)\n",
    "    \n",
    "    # Retrain the model using the new data\n",
    "    model = RandomForestClassifier(random_state=12345, n_estimators=100, max_depth=10)\n",
    "    model.fit(features_upsampled, target_upsampled)\n",
    "\n",
    "    # Find predictions\n",
    "    predicted_valid = model.predict(features_valid_ordinal)\n",
    "\n",
    "    # Calculate F1 score\n",
    "    f1 = f1_score(target_valid_ordinal, predicted_valid)\n",
    "    \n",
    "    print(f'repeat = {repeat} : {f1}')\n",
    "\n",
    "    if (f1 > best_f1):\n",
    "        best_repeat = repeat\n",
    "        best_f1 = f1\n",
    "\n",
    "print()\n",
    "print(f'F1 score of the best logistic regression model (using repeat = {best_repeat}) on the training set: {best_f1}')"
   ]
  },
  {
   "cell_type": "code",
   "execution_count": 41,
   "id": "83adf58d-9c45-4ff4-9c40-c7aaeb4ac5f5",
   "metadata": {},
   "outputs": [],
   "source": [
    "features_ordinal_upsampled, target_ordinal_upsampled = upsample(features_train_ordinal, target_train_ordinal, 3)"
   ]
  },
  {
   "cell_type": "code",
   "execution_count": 42,
   "id": "ba8128e2-137a-4fa1-8c84-f25a83ff57bc",
   "metadata": {},
   "outputs": [
    {
     "name": "stdout",
     "output_type": "stream",
     "text": [
      "fraction = 0.1 : 0.44027303754266206\n",
      "fraction = 0.2 : 0.549346016646849\n",
      "fraction = 0.3 : 0.6014388489208633\n",
      "fraction = 0.4 : 0.6085526315789473\n",
      "fraction = 0.5 : 0.6038461538461538\n",
      "fraction = 0.6 : 0.6157024793388429\n",
      "fraction = 0.7 : 0.5965665236051502\n",
      "fraction = 0.8 : 0.5869074492099323\n",
      "fraction = 0.9 : 0.5767441860465117\n",
      "fraction = 1.0 : 0.5645933014354068\n",
      "\n",
      "F1 score of the best decision tree model (using fraction = 0.6) on the training set: 0.6157024793388429\n"
     ]
    }
   ],
   "source": [
    "# Parameter tuning: find best fraction value\n",
    "start = 0.1\n",
    "end = 1.0\n",
    "interval = 0.1\n",
    "best_fraction = None\n",
    "best_f1 = 0\n",
    "current = start\n",
    "\n",
    "while current <= end:\n",
    "    features_downsampled = pd.concat([features_zeros.sample(frac=current, random_state=12345)] + [features_ones])\n",
    "    target_downsampled = pd.concat([target_zeros.sample(frac=current, random_state=12345)] + [target_ones])\n",
    "    \n",
    "    features_downsampled, target_downsampled = shuffle(features_downsampled, target_downsampled, random_state=12345)\n",
    "\n",
    "    # Retrain the model using the new data\n",
    "    model = RandomForestClassifier(random_state=12345, n_estimators=100, max_depth=10)\n",
    "    model.fit(features_downsampled, target_downsampled)\n",
    "\n",
    "    # Find predictions\n",
    "    predicted_valid = model.predict(features_valid_ordinal)\n",
    "\n",
    "    # Calculate F1 score\n",
    "    f1 = f1_score(target_valid_ordinal, predicted_valid)\n",
    "    \n",
    "    # f1 = accuracy_score(target_train_ohe, predicted_train)\n",
    "\n",
    "    print(f'fraction = {current:.1f} : {f1}')\n",
    "\n",
    "    if (f1 > best_f1):\n",
    "        best_fraction = current\n",
    "        best_f1 = f1\n",
    "\n",
    "    current += interval\n",
    "\n",
    "print()\n",
    "print(f'F1 score of the best decision tree model (using fraction = {best_fraction}) on the training set: {best_f1}')"
   ]
  },
  {
   "cell_type": "code",
   "execution_count": 43,
   "id": "49c3d8c9-4cc4-4533-8ef3-f8326acfa626",
   "metadata": {},
   "outputs": [],
   "source": [
    "features_ordinal_downsampled, target_ordinal_downsampled = downsample(features_train_ordinal, target_train_ordinal, 0.6)"
   ]
  },
  {
   "cell_type": "markdown",
   "id": "7b62f409-42e7-4da4-9b56-46cc07010ab0",
   "metadata": {},
   "source": [
    "#### Balancing with class weight & upsampling"
   ]
  },
  {
   "cell_type": "code",
   "execution_count": 44,
   "id": "cb164430-6ab1-4063-90d5-401c485655c6",
   "metadata": {
    "scrolled": true
   },
   "outputs": [
    {
     "name": "stdout",
     "output_type": "stream",
     "text": [
      "F1 score: 0.6071428571428572\n",
      "Accuracy score: 0.810671256454389\n"
     ]
    },
    {
     "data": {
      "image/png": "[encoded data removed]",
      "text/plain": [
       "<Figure size 432x288 with 2 Axes>"
      ]
     },
     "metadata": {},
     "output_type": "display_data"
    },
    {
     "data": {
      "image/png": "[encoded data removed]",
      "text/plain": [
       "<Figure size 432x288 with 1 Axes>"
      ]
     },
     "metadata": {},
     "output_type": "display_data"
    },
    {
     "name": "stdout",
     "output_type": "stream",
     "text": [
      "AUC-ROC value: 0.846799276073569\n"
     ]
    }
   ],
   "source": [
    "# Create and train the model\n",
    "model = RandomForestClassifier(random_state=12345, n_estimators=100, max_depth=10, class_weight='balanced')\n",
    "model.fit(features_ordinal_upsampled, target_ordinal_upsampled)\n",
    "\n",
    "# Find predictions\n",
    "predicted_valid = model.predict(features_valid_ordinal)\n",
    "\n",
    "# Evaluate the model\n",
    "print_model_evaluation(model, features_valid_ordinal, target_valid_ordinal, predicted_valid)"
   ]
  },
  {
   "cell_type": "markdown",
   "id": "4be119a8-8d41-4d94-8e35-7d4413dad4cf",
   "metadata": {},
   "source": [
    "Using the random forest model, we balance the classes using the `class_weight` parameter and train the model using upsampled data. Our F1 score is finally above our target, and the AUC-ROC value has improved as well."
   ]
  },
  {
   "cell_type": "markdown",
   "id": "cc7df067-3203-4c6c-b7f0-1d1e3b55c591",
   "metadata": {},
   "source": [
    "#### Balancing with class weight & downsampling"
   ]
  },
  {
   "cell_type": "code",
   "execution_count": 45,
   "id": "70d2b8de-43b2-404a-a4d6-df9f3b4f4352",
   "metadata": {},
   "outputs": [
    {
     "name": "stdout",
     "output_type": "stream",
     "text": [
      "F1 score: 0.622540250447227\n",
      "Accuracy score: 0.8184165232358004\n"
     ]
    },
    {
     "data": {
      "image/png": "[encoded data removed]",
      "text/plain": [
       "<Figure size 432x288 with 2 Axes>"
      ]
     },
     "metadata": {},
     "output_type": "display_data"
    },
    {
     "data": {
      "image/png": "[encoded data removed]",
      "text/plain": [
       "<Figure size 432x288 with 1 Axes>"
      ]
     },
     "metadata": {},
     "output_type": "display_data"
    },
    {
     "name": "stdout",
     "output_type": "stream",
     "text": [
      "AUC-ROC value: 0.8429684296842967\n"
     ]
    }
   ],
   "source": [
    "# Create and train the model\n",
    "model = RandomForestClassifier(random_state=12345, n_estimators=100, max_depth=10, class_weight='balanced')\n",
    "model.fit(features_ordinal_downsampled, target_ordinal_downsampled)\n",
    "\n",
    "# Find predictions\n",
    "predicted_valid = model.predict(features_valid_ordinal)\n",
    "\n",
    "# Evaluate the model\n",
    "print_model_evaluation(model, features_valid_ordinal, target_valid_ordinal, predicted_valid)"
   ]
  },
  {
   "cell_type": "markdown",
   "id": "f121041a-c90c-4e49-bbb5-1274e99dc271",
   "metadata": {},
   "source": [
    "We try downsampling next, and see an F1 score a little higher than the upsampling result (although the AUC-ROC value has slightly decreased from the upsampling results). This will be our candidate for the best model to date."
   ]
  },
  {
   "cell_type": "markdown",
   "id": "a543bd45-5eee-4045-b973-dfdf0cca43c6",
   "metadata": {},
   "source": [
    "### Final testing"
   ]
  },
  {
   "cell_type": "markdown",
   "id": "52829598-c22f-4171-877c-888f2a1e9349",
   "metadata": {},
   "source": [
    "#### Pick the best model"
   ]
  },
  {
   "cell_type": "code",
   "execution_count": 46,
   "id": "c608616a-6b02-4798-b648-24291e001dc0",
   "metadata": {},
   "outputs": [
    {
     "name": "stdout",
     "output_type": "stream",
     "text": [
      "F1 score: 0.622540250447227\n",
      "Accuracy score: 0.8184165232358004\n"
     ]
    },
    {
     "data": {
      "image/png": "[encoded data removed]",
      "text/plain": [
       "<Figure size 432x288 with 2 Axes>"
      ]
     },
     "metadata": {},
     "output_type": "display_data"
    },
    {
     "data": {
      "image/png": "[encoded data removed]",
      "text/plain": [
       "<Figure size 432x288 with 1 Axes>"
      ]
     },
     "metadata": {},
     "output_type": "display_data"
    },
    {
     "name": "stdout",
     "output_type": "stream",
     "text": [
      "AUC-ROC value: 0.8429684296842967\n"
     ]
    }
   ],
   "source": [
    "# Create and train the model\n",
    "model = RandomForestClassifier(random_state=12345, n_estimators=100, max_depth=10, class_weight='balanced')\n",
    "model.fit(features_ordinal_downsampled, target_ordinal_downsampled)\n",
    "\n",
    "# Find predictions\n",
    "predicted_valid = model.predict(features_valid_ordinal)\n",
    "\n",
    "# Evaluate the model\n",
    "print_model_evaluation(model, features_valid_ordinal, target_valid_ordinal, predicted_valid)"
   ]
  },
  {
   "cell_type": "markdown",
   "id": "2f7bec18-8df9-423b-8f56-11e070c6d645",
   "metadata": {},
   "source": [
    "Here we revisit the best model that we previously identified, using the random tree regression and class balancing using the `class_weight` paramter and upsampled model training. These conditions yield around a `0.62` F1 score, which is a few decimals above the **0.59** target!"
   ]
  },
  {
   "cell_type": "markdown",
   "id": "e15a2939-6e76-40cc-84a0-64d76ea6e174",
   "metadata": {},
   "source": [
    "#### Check F1 for the test set"
   ]
  },
  {
   "cell_type": "code",
   "execution_count": 48,
   "id": "353880f2-836d-4312-b58a-c2e414aea64d",
   "metadata": {},
   "outputs": [
    {
     "name": "stdout",
     "output_type": "stream",
     "text": [
      "F1 score: 0.6225402504472272\n",
      "Accuracy score: 0.8184165232358004\n"
     ]
    },
    {
     "data": {
      "image/png": "[encoded data removed]",
      "text/plain": [
       "<Figure size 432x288 with 2 Axes>"
      ]
     },
     "metadata": {},
     "output_type": "display_data"
    },
    {
     "data": {
      "image/png": "[encoded data removed]",
      "text/plain": [
       "<Figure size 432x288 with 1 Axes>"
      ]
     },
     "metadata": {},
     "output_type": "display_data"
    },
    {
     "name": "stdout",
     "output_type": "stream",
     "text": [
      "AUC-ROC value: 0.815884912959381\n"
     ]
    }
   ],
   "source": [
    "# Create and train the model\n",
    "model = RandomForestClassifier(random_state=12345, n_estimators=100, max_depth=10, class_weight='balanced')\n",
    "model.fit(features_ordinal_downsampled, target_ordinal_downsampled)\n",
    "\n",
    "# Find predictions\n",
    "predicted_test = model.predict(features_test_ordinal)\n",
    "\n",
    "# Evaluate the model\n",
    "print_model_evaluation(model, features_test_ordinal, target_test_ordinal, predicted_test)"
   ]
  },
  {
   "cell_type": "markdown",
   "id": "b10c6555-683d-4f52-852f-f0a4e62f3264",
   "metadata": {},
   "source": [
    "We check our F1 score using the test set to get a sense of our best random forest model's general performance. The test set's results come up quite close to our best model's, confirming that it's the choice we want to go with."
   ]
  },
  {
   "cell_type": "markdown",
   "id": "e91dceac-ef99-4468-96df-e899d2ef0ef0",
   "metadata": {},
   "source": [
    "## Conclusion"
   ]
  },
  {
   "cell_type": "markdown",
   "id": "cb45e105-6eec-46e3-8b4b-cc6d7b08f558",
   "metadata": {},
   "source": [
    "We conclude that a random forest regression model with balanced classes using a class weight adjustment and downsampled data is the best model for predicting whether a customer is going to leave the bank or not. Our model's highest F1 score was around `0.62`, with a AUC-ROC value of **0.85**.\n",
    "\n",
    "We did this by training logistic regression, deicision tree, and random forest models models in succession. For all three, we used the class weight parameter adjustment in conjunction with upsampled and downsampled data, respectively, as well as tuning for the best parameters to use in addressing class imbalance and improving our models."
   ]
  }
 ],
 "metadata": {
  "kernelspec": {
   "display_name": "Python 3 (ipykernel)",
   "language": "python",
   "name": "python3"
  },
  "language_info": {
   "codemirror_mode": {
    "name": "ipython",
    "version": 3
   },
   "file_extension": ".py",
   "mimetype": "text/x-python",
   "name": "python",
   "nbconvert_exporter": "python",
   "pygments_lexer": "ipython3",
   "version": "3.9.5"
  },
  "toc": {
   "base_numbering": 1,
   "nav_menu": {},
   "number_sections": true,
   "sideBar": true,
   "skip_h1_title": true,
   "title_cell": "Table of Contents",
   "title_sidebar": "Contents",
   "toc_cell": false,
   "toc_position": {},
   "toc_section_display": true,
   "toc_window_display": false
  }
 },
 "nbformat": 4,
 "nbformat_minor": 5
}
