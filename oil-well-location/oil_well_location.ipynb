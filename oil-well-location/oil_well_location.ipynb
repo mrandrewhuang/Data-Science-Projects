{
 "cells": [
  {
   "cell_type": "markdown",
   "id": "69ad6830-ad75-4958-adf8-3f0f0e42710b",
   "metadata": {},
   "source": [
    "# Project: Oil Well Location (Machine Learning)\n",
    "\n",
    "## Introduction\n",
    "\n",
    "For this project, we are working for the mining company OilyGiant. Our task is to find the best location for a new well between three options.\n",
    "\n",
    "For this task, we will build a model and use the predictions for total profit and risks (with a threshold of 2.5% max for losses) to determine the best option for well location. Our target will be using the `product` feature, which represents volume of reserves in a well (by thousand barrels) from the available datasets. The target is numerical, so we'll be executing a regression task.\n",
    "\n",
    "After looking over the data, we'll run through brief exploratory data analysis before testing each of the datasets with our regression model in order to help us make a recommendation to the company."
   ]
  },
  {
   "cell_type": "markdown",
   "id": "e3ab44e3-26f3-41d7-9df5-692d5ad22ef7",
   "metadata": {},
   "source": [
    "## Data overview"
   ]
  },
  {
   "cell_type": "code",
   "execution_count": 1,
   "id": "a49b4f0a-9223-4ba2-9608-3ff83df443b0",
   "metadata": {},
   "outputs": [],
   "source": [
    "# Load libraries\n",
    "import pandas as pd\n",
    "import numpy as np\n",
    "import matplotlib.pyplot as plt\n",
    "import seaborn as sns\n",
    "from scipy import stats as st\n",
    "from sklearn.model_selection import train_test_split\n",
    "from sklearn.linear_model import LinearRegression\n",
    "from sklearn.metrics import mean_squared_error"
   ]
  },
  {
   "cell_type": "code",
   "execution_count": 2,
   "id": "5de449b2-0498-455f-ac80-98a63cc9fdaa",
   "metadata": {},
   "outputs": [],
   "source": [
    "# Import datasets\n",
    "df_region_0 = pd.read_csv('datasets/geo_data_0.csv')\n",
    "df_region_1 = pd.read_csv('datasets/geo_data_1.csv')\n",
    "df_region_2 = pd.read_csv('datasets/geo_data_2.csv')\n",
    "\n",
    "# Store datasets in a list to be used for iterating over\n",
    "regions = [df_region_0, df_region_1, df_region_2]"
   ]
  },
  {
   "cell_type": "markdown",
   "id": "90c20b50-2071-4c20-9e30-27fcfe17cef7",
   "metadata": {},
   "source": [
    "### Study the data"
   ]
  },
  {
   "cell_type": "code",
   "execution_count": 3,
   "id": "77e09b88-272a-4397-9328-f4b7f8d2ae6d",
   "metadata": {},
   "outputs": [
    {
     "data": {
      "text/html": [
       "<div>\n",
       "<style scoped>\n",
       "    .dataframe tbody tr th:only-of-type {\n",
       "        vertical-align: middle;\n",
       "    }\n",
       "\n",
       "    .dataframe tbody tr th {\n",
       "        vertical-align: top;\n",
       "    }\n",
       "\n",
       "    .dataframe thead th {\n",
       "        text-align: right;\n",
       "    }\n",
       "</style>\n",
       "<table border=\"1\" class=\"dataframe\">\n",
       "  <thead>\n",
       "    <tr style=\"text-align: right;\">\n",
       "      <th></th>\n",
       "      <th>id</th>\n",
       "      <th>f0</th>\n",
       "      <th>f1</th>\n",
       "      <th>f2</th>\n",
       "      <th>product</th>\n",
       "    </tr>\n",
       "  </thead>\n",
       "  <tbody>\n",
       "    <tr>\n",
       "      <th>0</th>\n",
       "      <td>txEyH</td>\n",
       "      <td>0.705745</td>\n",
       "      <td>-0.497823</td>\n",
       "      <td>1.221170</td>\n",
       "      <td>105.280062</td>\n",
       "    </tr>\n",
       "    <tr>\n",
       "      <th>1</th>\n",
       "      <td>2acmU</td>\n",
       "      <td>1.334711</td>\n",
       "      <td>-0.340164</td>\n",
       "      <td>4.365080</td>\n",
       "      <td>73.037750</td>\n",
       "    </tr>\n",
       "    <tr>\n",
       "      <th>2</th>\n",
       "      <td>409Wp</td>\n",
       "      <td>1.022732</td>\n",
       "      <td>0.151990</td>\n",
       "      <td>1.419926</td>\n",
       "      <td>85.265647</td>\n",
       "    </tr>\n",
       "    <tr>\n",
       "      <th>3</th>\n",
       "      <td>iJLyR</td>\n",
       "      <td>-0.032172</td>\n",
       "      <td>0.139033</td>\n",
       "      <td>2.978566</td>\n",
       "      <td>168.620776</td>\n",
       "    </tr>\n",
       "    <tr>\n",
       "      <th>4</th>\n",
       "      <td>Xdl7t</td>\n",
       "      <td>1.988431</td>\n",
       "      <td>0.155413</td>\n",
       "      <td>4.751769</td>\n",
       "      <td>154.036647</td>\n",
       "    </tr>\n",
       "    <tr>\n",
       "      <th>5</th>\n",
       "      <td>wX4Hy</td>\n",
       "      <td>0.969570</td>\n",
       "      <td>0.489775</td>\n",
       "      <td>-0.735383</td>\n",
       "      <td>64.741541</td>\n",
       "    </tr>\n",
       "    <tr>\n",
       "      <th>6</th>\n",
       "      <td>tL6pL</td>\n",
       "      <td>0.645075</td>\n",
       "      <td>0.530656</td>\n",
       "      <td>1.780266</td>\n",
       "      <td>49.055285</td>\n",
       "    </tr>\n",
       "    <tr>\n",
       "      <th>7</th>\n",
       "      <td>BYPU6</td>\n",
       "      <td>-0.400648</td>\n",
       "      <td>0.808337</td>\n",
       "      <td>-5.624670</td>\n",
       "      <td>72.943292</td>\n",
       "    </tr>\n",
       "    <tr>\n",
       "      <th>8</th>\n",
       "      <td>j9Oui</td>\n",
       "      <td>0.643105</td>\n",
       "      <td>-0.551583</td>\n",
       "      <td>2.372141</td>\n",
       "      <td>113.356160</td>\n",
       "    </tr>\n",
       "    <tr>\n",
       "      <th>9</th>\n",
       "      <td>OLuZU</td>\n",
       "      <td>2.173381</td>\n",
       "      <td>0.563698</td>\n",
       "      <td>9.441852</td>\n",
       "      <td>127.910945</td>\n",
       "    </tr>\n",
       "  </tbody>\n",
       "</table>\n",
       "</div>"
      ],
      "text/plain": [
       "      id        f0        f1        f2     product\n",
       "0  txEyH  0.705745 -0.497823  1.221170  105.280062\n",
       "1  2acmU  1.334711 -0.340164  4.365080   73.037750\n",
       "2  409Wp  1.022732  0.151990  1.419926   85.265647\n",
       "3  iJLyR -0.032172  0.139033  2.978566  168.620776\n",
       "4  Xdl7t  1.988431  0.155413  4.751769  154.036647\n",
       "5  wX4Hy  0.969570  0.489775 -0.735383   64.741541\n",
       "6  tL6pL  0.645075  0.530656  1.780266   49.055285\n",
       "7  BYPU6 -0.400648  0.808337 -5.624670   72.943292\n",
       "8  j9Oui  0.643105 -0.551583  2.372141  113.356160\n",
       "9  OLuZU  2.173381  0.563698  9.441852  127.910945"
      ]
     },
     "metadata": {},
     "output_type": "display_data"
    },
    {
     "data": {
      "text/html": [
       "<div>\n",
       "<style scoped>\n",
       "    .dataframe tbody tr th:only-of-type {\n",
       "        vertical-align: middle;\n",
       "    }\n",
       "\n",
       "    .dataframe tbody tr th {\n",
       "        vertical-align: top;\n",
       "    }\n",
       "\n",
       "    .dataframe thead th {\n",
       "        text-align: right;\n",
       "    }\n",
       "</style>\n",
       "<table border=\"1\" class=\"dataframe\">\n",
       "  <thead>\n",
       "    <tr style=\"text-align: right;\">\n",
       "      <th></th>\n",
       "      <th>id</th>\n",
       "      <th>f0</th>\n",
       "      <th>f1</th>\n",
       "      <th>f2</th>\n",
       "      <th>product</th>\n",
       "    </tr>\n",
       "  </thead>\n",
       "  <tbody>\n",
       "    <tr>\n",
       "      <th>0</th>\n",
       "      <td>kBEdx</td>\n",
       "      <td>-15.001348</td>\n",
       "      <td>-8.276000</td>\n",
       "      <td>-0.005876</td>\n",
       "      <td>3.179103</td>\n",
       "    </tr>\n",
       "    <tr>\n",
       "      <th>1</th>\n",
       "      <td>62mP7</td>\n",
       "      <td>14.272088</td>\n",
       "      <td>-3.475083</td>\n",
       "      <td>0.999183</td>\n",
       "      <td>26.953261</td>\n",
       "    </tr>\n",
       "    <tr>\n",
       "      <th>2</th>\n",
       "      <td>vyE1P</td>\n",
       "      <td>6.263187</td>\n",
       "      <td>-5.948386</td>\n",
       "      <td>5.001160</td>\n",
       "      <td>134.766305</td>\n",
       "    </tr>\n",
       "    <tr>\n",
       "      <th>3</th>\n",
       "      <td>KcrkZ</td>\n",
       "      <td>-13.081196</td>\n",
       "      <td>-11.506057</td>\n",
       "      <td>4.999415</td>\n",
       "      <td>137.945408</td>\n",
       "    </tr>\n",
       "    <tr>\n",
       "      <th>4</th>\n",
       "      <td>AHL4O</td>\n",
       "      <td>12.702195</td>\n",
       "      <td>-8.147433</td>\n",
       "      <td>5.004363</td>\n",
       "      <td>134.766305</td>\n",
       "    </tr>\n",
       "    <tr>\n",
       "      <th>5</th>\n",
       "      <td>HHckp</td>\n",
       "      <td>-3.327590</td>\n",
       "      <td>-2.205276</td>\n",
       "      <td>3.003647</td>\n",
       "      <td>84.038886</td>\n",
       "    </tr>\n",
       "    <tr>\n",
       "      <th>6</th>\n",
       "      <td>h5Ujo</td>\n",
       "      <td>-11.142655</td>\n",
       "      <td>-10.133399</td>\n",
       "      <td>4.002382</td>\n",
       "      <td>110.992147</td>\n",
       "    </tr>\n",
       "    <tr>\n",
       "      <th>7</th>\n",
       "      <td>muH9x</td>\n",
       "      <td>4.234715</td>\n",
       "      <td>-0.001354</td>\n",
       "      <td>2.004588</td>\n",
       "      <td>53.906522</td>\n",
       "    </tr>\n",
       "    <tr>\n",
       "      <th>8</th>\n",
       "      <td>YiRkx</td>\n",
       "      <td>13.355129</td>\n",
       "      <td>-0.332068</td>\n",
       "      <td>4.998647</td>\n",
       "      <td>134.766305</td>\n",
       "    </tr>\n",
       "    <tr>\n",
       "      <th>9</th>\n",
       "      <td>jG6Gi</td>\n",
       "      <td>1.069227</td>\n",
       "      <td>-11.025667</td>\n",
       "      <td>4.997844</td>\n",
       "      <td>137.945408</td>\n",
       "    </tr>\n",
       "  </tbody>\n",
       "</table>\n",
       "</div>"
      ],
      "text/plain": [
       "      id         f0         f1        f2     product\n",
       "0  kBEdx -15.001348  -8.276000 -0.005876    3.179103\n",
       "1  62mP7  14.272088  -3.475083  0.999183   26.953261\n",
       "2  vyE1P   6.263187  -5.948386  5.001160  134.766305\n",
       "3  KcrkZ -13.081196 -11.506057  4.999415  137.945408\n",
       "4  AHL4O  12.702195  -8.147433  5.004363  134.766305\n",
       "5  HHckp  -3.327590  -2.205276  3.003647   84.038886\n",
       "6  h5Ujo -11.142655 -10.133399  4.002382  110.992147\n",
       "7  muH9x   4.234715  -0.001354  2.004588   53.906522\n",
       "8  YiRkx  13.355129  -0.332068  4.998647  134.766305\n",
       "9  jG6Gi   1.069227 -11.025667  4.997844  137.945408"
      ]
     },
     "metadata": {},
     "output_type": "display_data"
    },
    {
     "data": {
      "text/html": [
       "<div>\n",
       "<style scoped>\n",
       "    .dataframe tbody tr th:only-of-type {\n",
       "        vertical-align: middle;\n",
       "    }\n",
       "\n",
       "    .dataframe tbody tr th {\n",
       "        vertical-align: top;\n",
       "    }\n",
       "\n",
       "    .dataframe thead th {\n",
       "        text-align: right;\n",
       "    }\n",
       "</style>\n",
       "<table border=\"1\" class=\"dataframe\">\n",
       "  <thead>\n",
       "    <tr style=\"text-align: right;\">\n",
       "      <th></th>\n",
       "      <th>id</th>\n",
       "      <th>f0</th>\n",
       "      <th>f1</th>\n",
       "      <th>f2</th>\n",
       "      <th>product</th>\n",
       "    </tr>\n",
       "  </thead>\n",
       "  <tbody>\n",
       "    <tr>\n",
       "      <th>0</th>\n",
       "      <td>fwXo0</td>\n",
       "      <td>-1.146987</td>\n",
       "      <td>0.963328</td>\n",
       "      <td>-0.828965</td>\n",
       "      <td>27.758673</td>\n",
       "    </tr>\n",
       "    <tr>\n",
       "      <th>1</th>\n",
       "      <td>WJtFt</td>\n",
       "      <td>0.262778</td>\n",
       "      <td>0.269839</td>\n",
       "      <td>-2.530187</td>\n",
       "      <td>56.069697</td>\n",
       "    </tr>\n",
       "    <tr>\n",
       "      <th>2</th>\n",
       "      <td>ovLUW</td>\n",
       "      <td>0.194587</td>\n",
       "      <td>0.289035</td>\n",
       "      <td>-5.586433</td>\n",
       "      <td>62.871910</td>\n",
       "    </tr>\n",
       "    <tr>\n",
       "      <th>3</th>\n",
       "      <td>q6cA6</td>\n",
       "      <td>2.236060</td>\n",
       "      <td>-0.553760</td>\n",
       "      <td>0.930038</td>\n",
       "      <td>114.572842</td>\n",
       "    </tr>\n",
       "    <tr>\n",
       "      <th>4</th>\n",
       "      <td>WPMUX</td>\n",
       "      <td>-0.515993</td>\n",
       "      <td>1.716266</td>\n",
       "      <td>5.899011</td>\n",
       "      <td>149.600746</td>\n",
       "    </tr>\n",
       "    <tr>\n",
       "      <th>5</th>\n",
       "      <td>LzZXx</td>\n",
       "      <td>-0.758092</td>\n",
       "      <td>0.710691</td>\n",
       "      <td>2.585887</td>\n",
       "      <td>90.222465</td>\n",
       "    </tr>\n",
       "    <tr>\n",
       "      <th>6</th>\n",
       "      <td>WBHRv</td>\n",
       "      <td>-0.574891</td>\n",
       "      <td>0.317727</td>\n",
       "      <td>1.773745</td>\n",
       "      <td>45.641478</td>\n",
       "    </tr>\n",
       "    <tr>\n",
       "      <th>7</th>\n",
       "      <td>XO8fn</td>\n",
       "      <td>-1.906649</td>\n",
       "      <td>-2.458350</td>\n",
       "      <td>-0.177097</td>\n",
       "      <td>72.480640</td>\n",
       "    </tr>\n",
       "    <tr>\n",
       "      <th>8</th>\n",
       "      <td>ybmQ5</td>\n",
       "      <td>1.776292</td>\n",
       "      <td>-0.279356</td>\n",
       "      <td>3.004156</td>\n",
       "      <td>106.616832</td>\n",
       "    </tr>\n",
       "    <tr>\n",
       "      <th>9</th>\n",
       "      <td>OilcN</td>\n",
       "      <td>-1.214452</td>\n",
       "      <td>-0.439314</td>\n",
       "      <td>5.922514</td>\n",
       "      <td>52.954532</td>\n",
       "    </tr>\n",
       "  </tbody>\n",
       "</table>\n",
       "</div>"
      ],
      "text/plain": [
       "      id        f0        f1        f2     product\n",
       "0  fwXo0 -1.146987  0.963328 -0.828965   27.758673\n",
       "1  WJtFt  0.262778  0.269839 -2.530187   56.069697\n",
       "2  ovLUW  0.194587  0.289035 -5.586433   62.871910\n",
       "3  q6cA6  2.236060 -0.553760  0.930038  114.572842\n",
       "4  WPMUX -0.515993  1.716266  5.899011  149.600746\n",
       "5  LzZXx -0.758092  0.710691  2.585887   90.222465\n",
       "6  WBHRv -0.574891  0.317727  1.773745   45.641478\n",
       "7  XO8fn -1.906649 -2.458350 -0.177097   72.480640\n",
       "8  ybmQ5  1.776292 -0.279356  3.004156  106.616832\n",
       "9  OilcN -1.214452 -0.439314  5.922514   52.954532"
      ]
     },
     "metadata": {},
     "output_type": "display_data"
    }
   ],
   "source": [
    "for region in regions:\n",
    "    display(region.head(10))"
   ]
  },
  {
   "cell_type": "code",
   "execution_count": 4,
   "id": "0780ef38-1f4f-4360-9a88-58b2b03e5751",
   "metadata": {},
   "outputs": [
    {
     "name": "stdout",
     "output_type": "stream",
     "text": [
      "<class 'pandas.core.frame.DataFrame'>\n",
      "RangeIndex: 100000 entries, 0 to 99999\n",
      "Data columns (total 5 columns):\n",
      " #   Column   Non-Null Count   Dtype  \n",
      "---  ------   --------------   -----  \n",
      " 0   id       100000 non-null  object \n",
      " 1   f0       100000 non-null  float64\n",
      " 2   f1       100000 non-null  float64\n",
      " 3   f2       100000 non-null  float64\n",
      " 4   product  100000 non-null  float64\n",
      "dtypes: float64(4), object(1)\n",
      "memory usage: 3.8+ MB\n",
      "None\n",
      "<class 'pandas.core.frame.DataFrame'>\n",
      "RangeIndex: 100000 entries, 0 to 99999\n",
      "Data columns (total 5 columns):\n",
      " #   Column   Non-Null Count   Dtype  \n",
      "---  ------   --------------   -----  \n",
      " 0   id       100000 non-null  object \n",
      " 1   f0       100000 non-null  float64\n",
      " 2   f1       100000 non-null  float64\n",
      " 3   f2       100000 non-null  float64\n",
      " 4   product  100000 non-null  float64\n",
      "dtypes: float64(4), object(1)\n",
      "memory usage: 3.8+ MB\n",
      "None\n",
      "<class 'pandas.core.frame.DataFrame'>\n",
      "RangeIndex: 100000 entries, 0 to 99999\n",
      "Data columns (total 5 columns):\n",
      " #   Column   Non-Null Count   Dtype  \n",
      "---  ------   --------------   -----  \n",
      " 0   id       100000 non-null  object \n",
      " 1   f0       100000 non-null  float64\n",
      " 2   f1       100000 non-null  float64\n",
      " 3   f2       100000 non-null  float64\n",
      " 4   product  100000 non-null  float64\n",
      "dtypes: float64(4), object(1)\n",
      "memory usage: 3.8+ MB\n",
      "None\n"
     ]
    }
   ],
   "source": [
    "for region in regions:\n",
    "    print(region.info())"
   ]
  },
  {
   "cell_type": "code",
   "execution_count": 5,
   "id": "2ceec7e9-d934-4cdc-a309-6b9ac816aef8",
   "metadata": {},
   "outputs": [
    {
     "data": {
      "text/html": [
       "<div>\n",
       "<style scoped>\n",
       "    .dataframe tbody tr th:only-of-type {\n",
       "        vertical-align: middle;\n",
       "    }\n",
       "\n",
       "    .dataframe tbody tr th {\n",
       "        vertical-align: top;\n",
       "    }\n",
       "\n",
       "    .dataframe thead th {\n",
       "        text-align: right;\n",
       "    }\n",
       "</style>\n",
       "<table border=\"1\" class=\"dataframe\">\n",
       "  <thead>\n",
       "    <tr style=\"text-align: right;\">\n",
       "      <th></th>\n",
       "      <th>f0</th>\n",
       "      <th>f1</th>\n",
       "      <th>f2</th>\n",
       "      <th>product</th>\n",
       "    </tr>\n",
       "  </thead>\n",
       "  <tbody>\n",
       "    <tr>\n",
       "      <th>count</th>\n",
       "      <td>100000.000000</td>\n",
       "      <td>100000.000000</td>\n",
       "      <td>100000.000000</td>\n",
       "      <td>100000.000000</td>\n",
       "    </tr>\n",
       "    <tr>\n",
       "      <th>mean</th>\n",
       "      <td>0.500419</td>\n",
       "      <td>0.250143</td>\n",
       "      <td>2.502647</td>\n",
       "      <td>92.500000</td>\n",
       "    </tr>\n",
       "    <tr>\n",
       "      <th>std</th>\n",
       "      <td>0.871832</td>\n",
       "      <td>0.504433</td>\n",
       "      <td>3.248248</td>\n",
       "      <td>44.288691</td>\n",
       "    </tr>\n",
       "    <tr>\n",
       "      <th>min</th>\n",
       "      <td>-1.408605</td>\n",
       "      <td>-0.848218</td>\n",
       "      <td>-12.088328</td>\n",
       "      <td>0.000000</td>\n",
       "    </tr>\n",
       "    <tr>\n",
       "      <th>25%</th>\n",
       "      <td>-0.072580</td>\n",
       "      <td>-0.200881</td>\n",
       "      <td>0.287748</td>\n",
       "      <td>56.497507</td>\n",
       "    </tr>\n",
       "    <tr>\n",
       "      <th>50%</th>\n",
       "      <td>0.502360</td>\n",
       "      <td>0.250252</td>\n",
       "      <td>2.515969</td>\n",
       "      <td>91.849972</td>\n",
       "    </tr>\n",
       "    <tr>\n",
       "      <th>75%</th>\n",
       "      <td>1.073581</td>\n",
       "      <td>0.700646</td>\n",
       "      <td>4.715088</td>\n",
       "      <td>128.564089</td>\n",
       "    </tr>\n",
       "    <tr>\n",
       "      <th>max</th>\n",
       "      <td>2.362331</td>\n",
       "      <td>1.343769</td>\n",
       "      <td>16.003790</td>\n",
       "      <td>185.364347</td>\n",
       "    </tr>\n",
       "  </tbody>\n",
       "</table>\n",
       "</div>"
      ],
      "text/plain": [
       "                  f0             f1             f2        product\n",
       "count  100000.000000  100000.000000  100000.000000  100000.000000\n",
       "mean        0.500419       0.250143       2.502647      92.500000\n",
       "std         0.871832       0.504433       3.248248      44.288691\n",
       "min        -1.408605      -0.848218     -12.088328       0.000000\n",
       "25%        -0.072580      -0.200881       0.287748      56.497507\n",
       "50%         0.502360       0.250252       2.515969      91.849972\n",
       "75%         1.073581       0.700646       4.715088     128.564089\n",
       "max         2.362331       1.343769      16.003790     185.364347"
      ]
     },
     "metadata": {},
     "output_type": "display_data"
    },
    {
     "data": {
      "text/html": [
       "<div>\n",
       "<style scoped>\n",
       "    .dataframe tbody tr th:only-of-type {\n",
       "        vertical-align: middle;\n",
       "    }\n",
       "\n",
       "    .dataframe tbody tr th {\n",
       "        vertical-align: top;\n",
       "    }\n",
       "\n",
       "    .dataframe thead th {\n",
       "        text-align: right;\n",
       "    }\n",
       "</style>\n",
       "<table border=\"1\" class=\"dataframe\">\n",
       "  <thead>\n",
       "    <tr style=\"text-align: right;\">\n",
       "      <th></th>\n",
       "      <th>f0</th>\n",
       "      <th>f1</th>\n",
       "      <th>f2</th>\n",
       "      <th>product</th>\n",
       "    </tr>\n",
       "  </thead>\n",
       "  <tbody>\n",
       "    <tr>\n",
       "      <th>count</th>\n",
       "      <td>100000.000000</td>\n",
       "      <td>100000.000000</td>\n",
       "      <td>100000.000000</td>\n",
       "      <td>100000.000000</td>\n",
       "    </tr>\n",
       "    <tr>\n",
       "      <th>mean</th>\n",
       "      <td>1.141296</td>\n",
       "      <td>-4.796579</td>\n",
       "      <td>2.494541</td>\n",
       "      <td>68.825000</td>\n",
       "    </tr>\n",
       "    <tr>\n",
       "      <th>std</th>\n",
       "      <td>8.965932</td>\n",
       "      <td>5.119872</td>\n",
       "      <td>1.703572</td>\n",
       "      <td>45.944423</td>\n",
       "    </tr>\n",
       "    <tr>\n",
       "      <th>min</th>\n",
       "      <td>-31.609576</td>\n",
       "      <td>-26.358598</td>\n",
       "      <td>-0.018144</td>\n",
       "      <td>0.000000</td>\n",
       "    </tr>\n",
       "    <tr>\n",
       "      <th>25%</th>\n",
       "      <td>-6.298551</td>\n",
       "      <td>-8.267985</td>\n",
       "      <td>1.000021</td>\n",
       "      <td>26.953261</td>\n",
       "    </tr>\n",
       "    <tr>\n",
       "      <th>50%</th>\n",
       "      <td>1.153055</td>\n",
       "      <td>-4.813172</td>\n",
       "      <td>2.011479</td>\n",
       "      <td>57.085625</td>\n",
       "    </tr>\n",
       "    <tr>\n",
       "      <th>75%</th>\n",
       "      <td>8.621015</td>\n",
       "      <td>-1.332816</td>\n",
       "      <td>3.999904</td>\n",
       "      <td>107.813044</td>\n",
       "    </tr>\n",
       "    <tr>\n",
       "      <th>max</th>\n",
       "      <td>29.421755</td>\n",
       "      <td>18.734063</td>\n",
       "      <td>5.019721</td>\n",
       "      <td>137.945408</td>\n",
       "    </tr>\n",
       "  </tbody>\n",
       "</table>\n",
       "</div>"
      ],
      "text/plain": [
       "                  f0             f1             f2        product\n",
       "count  100000.000000  100000.000000  100000.000000  100000.000000\n",
       "mean        1.141296      -4.796579       2.494541      68.825000\n",
       "std         8.965932       5.119872       1.703572      45.944423\n",
       "min       -31.609576     -26.358598      -0.018144       0.000000\n",
       "25%        -6.298551      -8.267985       1.000021      26.953261\n",
       "50%         1.153055      -4.813172       2.011479      57.085625\n",
       "75%         8.621015      -1.332816       3.999904     107.813044\n",
       "max        29.421755      18.734063       5.019721     137.945408"
      ]
     },
     "metadata": {},
     "output_type": "display_data"
    },
    {
     "data": {
      "text/html": [
       "<div>\n",
       "<style scoped>\n",
       "    .dataframe tbody tr th:only-of-type {\n",
       "        vertical-align: middle;\n",
       "    }\n",
       "\n",
       "    .dataframe tbody tr th {\n",
       "        vertical-align: top;\n",
       "    }\n",
       "\n",
       "    .dataframe thead th {\n",
       "        text-align: right;\n",
       "    }\n",
       "</style>\n",
       "<table border=\"1\" class=\"dataframe\">\n",
       "  <thead>\n",
       "    <tr style=\"text-align: right;\">\n",
       "      <th></th>\n",
       "      <th>f0</th>\n",
       "      <th>f1</th>\n",
       "      <th>f2</th>\n",
       "      <th>product</th>\n",
       "    </tr>\n",
       "  </thead>\n",
       "  <tbody>\n",
       "    <tr>\n",
       "      <th>count</th>\n",
       "      <td>100000.000000</td>\n",
       "      <td>100000.000000</td>\n",
       "      <td>100000.000000</td>\n",
       "      <td>100000.000000</td>\n",
       "    </tr>\n",
       "    <tr>\n",
       "      <th>mean</th>\n",
       "      <td>0.002023</td>\n",
       "      <td>-0.002081</td>\n",
       "      <td>2.495128</td>\n",
       "      <td>95.000000</td>\n",
       "    </tr>\n",
       "    <tr>\n",
       "      <th>std</th>\n",
       "      <td>1.732045</td>\n",
       "      <td>1.730417</td>\n",
       "      <td>3.473445</td>\n",
       "      <td>44.749921</td>\n",
       "    </tr>\n",
       "    <tr>\n",
       "      <th>min</th>\n",
       "      <td>-8.760004</td>\n",
       "      <td>-7.084020</td>\n",
       "      <td>-11.970335</td>\n",
       "      <td>0.000000</td>\n",
       "    </tr>\n",
       "    <tr>\n",
       "      <th>25%</th>\n",
       "      <td>-1.162288</td>\n",
       "      <td>-1.174820</td>\n",
       "      <td>0.130359</td>\n",
       "      <td>59.450441</td>\n",
       "    </tr>\n",
       "    <tr>\n",
       "      <th>50%</th>\n",
       "      <td>0.009424</td>\n",
       "      <td>-0.009482</td>\n",
       "      <td>2.484236</td>\n",
       "      <td>94.925613</td>\n",
       "    </tr>\n",
       "    <tr>\n",
       "      <th>75%</th>\n",
       "      <td>1.158535</td>\n",
       "      <td>1.163678</td>\n",
       "      <td>4.858794</td>\n",
       "      <td>130.595027</td>\n",
       "    </tr>\n",
       "    <tr>\n",
       "      <th>max</th>\n",
       "      <td>7.238262</td>\n",
       "      <td>7.844801</td>\n",
       "      <td>16.739402</td>\n",
       "      <td>190.029838</td>\n",
       "    </tr>\n",
       "  </tbody>\n",
       "</table>\n",
       "</div>"
      ],
      "text/plain": [
       "                  f0             f1             f2        product\n",
       "count  100000.000000  100000.000000  100000.000000  100000.000000\n",
       "mean        0.002023      -0.002081       2.495128      95.000000\n",
       "std         1.732045       1.730417       3.473445      44.749921\n",
       "min        -8.760004      -7.084020     -11.970335       0.000000\n",
       "25%        -1.162288      -1.174820       0.130359      59.450441\n",
       "50%         0.009424      -0.009482       2.484236      94.925613\n",
       "75%         1.158535       1.163678       4.858794     130.595027\n",
       "max         7.238262       7.844801      16.739402     190.029838"
      ]
     },
     "metadata": {},
     "output_type": "display_data"
    }
   ],
   "source": [
    "for region in regions:\n",
    "    display(region.describe())"
   ]
  },
  {
   "cell_type": "markdown",
   "id": "2a1ba529-2da6-4725-9490-0931f76671a5",
   "metadata": {},
   "source": [
    "Upon initial examination of the data, everything looks good so far. We will likely have little preprocessing to worry about."
   ]
  },
  {
   "cell_type": "markdown",
   "id": "666408a3-ee27-4452-bed9-e5a6b09d2689",
   "metadata": {},
   "source": [
    "## Data preprocessing"
   ]
  },
  {
   "cell_type": "code",
   "execution_count": 6,
   "id": "f94f06f3-6fe3-45c1-8b1e-765e03551126",
   "metadata": {},
   "outputs": [
    {
     "name": "stdout",
     "output_type": "stream",
     "text": [
      "id         0\n",
      "f0         0\n",
      "f1         0\n",
      "f2         0\n",
      "product    0\n",
      "dtype: int64\n",
      "id         0\n",
      "f0         0\n",
      "f1         0\n",
      "f2         0\n",
      "product    0\n",
      "dtype: int64\n",
      "id         0\n",
      "f0         0\n",
      "f1         0\n",
      "f2         0\n",
      "product    0\n",
      "dtype: int64\n"
     ]
    }
   ],
   "source": [
    "# Find missing values\n",
    "for region in regions:\n",
    "    print(region.isnull().sum())"
   ]
  },
  {
   "cell_type": "code",
   "execution_count": 7,
   "id": "c6b783e1-de35-409a-ae66-301cec568650",
   "metadata": {},
   "outputs": [
    {
     "name": "stdout",
     "output_type": "stream",
     "text": [
      "0\n",
      "0\n",
      "0\n"
     ]
    }
   ],
   "source": [
    "# Find duplicate values\n",
    "for region in regions:\n",
    "    print(region.duplicated().sum())"
   ]
  },
  {
   "cell_type": "code",
   "execution_count": 8,
   "id": "a8e0057b-6800-4225-abce-9798c8c59060",
   "metadata": {},
   "outputs": [
    {
     "name": "stdout",
     "output_type": "stream",
     "text": [
      "10\n",
      "4\n",
      "4\n"
     ]
    }
   ],
   "source": [
    "# Find duplicate ids\n",
    "for region in regions:\n",
    "    print(region['id'].duplicated().sum())"
   ]
  },
  {
   "cell_type": "markdown",
   "id": "3b4f97eb-11e1-4117-b72a-b88a184265da",
   "metadata": {},
   "source": [
    "Aside from no missing values or duplicated rows, we find duplicate ids within each region's dataset. But as the observations themselves in each row are still unique, the data is still valuable to us, so we will not drop rows due to duplicate ids."
   ]
  },
  {
   "cell_type": "code",
   "execution_count": 9,
   "id": "25d14568-f02e-4463-aae5-d149d28cf7e0",
   "metadata": {
    "scrolled": false
   },
   "outputs": [
    {
     "name": "stdout",
     "output_type": "stream",
     "text": [
      "<class 'pandas.core.frame.DataFrame'>\n",
      "RangeIndex: 100000 entries, 0 to 99999\n",
      "Data columns (total 4 columns):\n",
      " #   Column   Non-Null Count   Dtype  \n",
      "---  ------   --------------   -----  \n",
      " 0   f0       100000 non-null  float64\n",
      " 1   f1       100000 non-null  float64\n",
      " 2   f2       100000 non-null  float64\n",
      " 3   product  100000 non-null  float64\n",
      "dtypes: float64(4)\n",
      "memory usage: 3.1 MB\n",
      "<class 'pandas.core.frame.DataFrame'>\n",
      "RangeIndex: 100000 entries, 0 to 99999\n",
      "Data columns (total 4 columns):\n",
      " #   Column   Non-Null Count   Dtype  \n",
      "---  ------   --------------   -----  \n",
      " 0   f0       100000 non-null  float64\n",
      " 1   f1       100000 non-null  float64\n",
      " 2   f2       100000 non-null  float64\n",
      " 3   product  100000 non-null  float64\n",
      "dtypes: float64(4)\n",
      "memory usage: 3.1 MB\n",
      "<class 'pandas.core.frame.DataFrame'>\n",
      "RangeIndex: 100000 entries, 0 to 99999\n",
      "Data columns (total 4 columns):\n",
      " #   Column   Non-Null Count   Dtype  \n",
      "---  ------   --------------   -----  \n",
      " 0   f0       100000 non-null  float64\n",
      " 1   f1       100000 non-null  float64\n",
      " 2   f2       100000 non-null  float64\n",
      " 3   product  100000 non-null  float64\n",
      "dtypes: float64(4)\n",
      "memory usage: 3.1 MB\n"
     ]
    }
   ],
   "source": [
    "# Fix data\n",
    "for region in regions:\n",
    "    region.drop(columns='id', inplace=True)\n",
    "    region.info()"
   ]
  },
  {
   "cell_type": "markdown",
   "id": "05c82d8f-5364-4c04-bd3e-f34fa111525b",
   "metadata": {},
   "source": [
    "As the `id` feature is the outlier data type among the rest of each dataset, we drop this column so that nothing interferes with the training and testing to follow where we're working purely with floating points for the rest of the data."
   ]
  },
  {
   "cell_type": "markdown",
   "id": "51fe9856-b08b-40f7-ad2b-ec0acbfb3180",
   "metadata": {},
   "source": [
    "## Data Analysis"
   ]
  },
  {
   "cell_type": "code",
   "execution_count": 31,
   "id": "edaa97c3-fd41-4617-899c-5d0c79a95ef1",
   "metadata": {
    "scrolled": true
   },
   "outputs": [
    {
     "data": {
      "image/png": "[encoded data removed]",
      "text/plain": [
       "<Figure size 1000x800 with 1 Axes>"
      ]
     },
     "metadata": {},
     "output_type": "display_data"
    }
   ],
   "source": [
    "sns.set_style('whitegrid')\n",
    "colors = ['blue', 'green', 'orange']\n",
    "plt.figure(figsize=(10,8))\n",
    "for i, region in enumerate(regions):\n",
    "    sns.histplot(\n",
    "        data=region,\n",
    "        x='product',\n",
    "        alpha=0.7,\n",
    "        color=colors[i]\n",
    "    )\n",
    "plt.grid(True)\n",
    "plt.title('Distribution of oil well reserve volumes')\n",
    "plt.xlabel('Volume of reserves (by thousand barrels)')\n",
    "plt.legend(['Region 0', 'Region 1', 'Region 2'])\n",
    "plt.show()"
   ]
  },
  {
   "cell_type": "markdown",
   "id": "35176282-78ae-471d-9b61-7a247b68f8ef",
   "metadata": {},
   "source": [
    "We visualize the distribution of volume of reserves across each of the regions. Regions 0 and 2 appear to have the most similar distribution of data in common as opposed to Region 1."
   ]
  },
  {
   "cell_type": "code",
   "execution_count": 11,
   "id": "8391c4a6-c027-41ab-a54b-0683ce2023cb",
   "metadata": {
    "scrolled": true
   },
   "outputs": [
    {
     "data": {
      "image/png": "[encoded data removed]",
      "text/plain": [
       "<Figure size 640x480 with 1 Axes>"
      ]
     },
     "metadata": {},
     "output_type": "display_data"
    },
    {
     "data": {
      "image/png": "[encoded data removed]",
      "text/plain": [
       "<Figure size 640x480 with 1 Axes>"
      ]
     },
     "metadata": {},
     "output_type": "display_data"
    },
    {
     "data": {
      "image/png": "[encoded data removed]",
      "text/plain": [
       "<Figure size 640x480 with 1 Axes>"
      ]
     },
     "metadata": {},
     "output_type": "display_data"
    }
   ],
   "source": [
    "for i, region in enumerate(regions):\n",
    "    sns.boxplot(\n",
    "        data=region,\n",
    "        x='product'\n",
    "    )\n",
    "    plt.title(f'Distribution of oil well reserve volumes for Region {i}')\n",
    "    plt.xlabel('Volume of reserves (by thousand barrels)')\n",
    "    plt.show()"
   ]
  },
  {
   "cell_type": "markdown",
   "id": "a81e06b1-773b-4df3-89da-c4004874b0f9",
   "metadata": {},
   "source": [
    "We also visualize box plots to compare the distribution of volume of reserves across each of the regions. All 3 regions have similar minimum and maximum values. Again, we see similarities with Region 0 and 2's distributions, including their interquartile range and median. Region 1 has a larger interquartile range and a lower median as compared to the other two regions."
   ]
  },
  {
   "cell_type": "code",
   "execution_count": 12,
   "id": "68a1363d-97c2-430f-a4c5-e2384a324a3c",
   "metadata": {
    "scrolled": true
   },
   "outputs": [
    {
     "data": {
      "image/png": "[encoded data removed]",
      "text/plain": [
       "<Figure size 640x480 with 2 Axes>"
      ]
     },
     "metadata": {},
     "output_type": "display_data"
    },
    {
     "data": {
      "image/png": "[encoded data removed]",
      "text/plain": [
       "<Figure size 640x480 with 2 Axes>"
      ]
     },
     "metadata": {},
     "output_type": "display_data"
    },
    {
     "data": {
      "image/png": "[encoded data removed]",
      "text/plain": [
       "<Figure size 640x480 with 2 Axes>"
      ]
     },
     "metadata": {},
     "output_type": "display_data"
    }
   ],
   "source": [
    "for i, region in enumerate(regions):\n",
    "    corr_matrix = region.corr()\n",
    "    sns.heatmap(\n",
    "        corr_matrix,\n",
    "        fmt='.3f',\n",
    "        annot=True,\n",
    "    )\n",
    "    plt.title(f'Correlation matrix of Region {i}\\'s dataset')\n",
    "    plt.show()"
   ]
  },
  {
   "cell_type": "markdown",
   "id": "d815f65f-c73f-4878-9cbe-e8aee7ed127f",
   "metadata": {},
   "source": [
    "Finally, we visualize each region's datasets via correlation matrix. Again, Regions 0 and 2 show similar results, but overall the matrices don't indicate any positive correlations worth further note or inspection."
   ]
  },
  {
   "cell_type": "markdown",
   "id": "3b110d5e-3dd5-426f-8fa9-cd29aeb069ca",
   "metadata": {},
   "source": [
    "## Machine learning"
   ]
  },
  {
   "cell_type": "markdown",
   "id": "6f7e1cd3-bd61-4e4c-a72d-ff4a9edbb38f",
   "metadata": {},
   "source": [
    "### Train and test the model per region"
   ]
  },
  {
   "cell_type": "code",
   "execution_count": 13,
   "id": "5225a1ce-aac7-4ee5-8c0a-7837386fb4ec",
   "metadata": {},
   "outputs": [],
   "source": [
    "state = np.random.RandomState(12345)\n",
    "\n",
    "def model_training(df):\n",
    "    # Split data into training and validation sets at a 75:25 ratio\n",
    "    features = df.drop(['product'], axis=1)\n",
    "    target = df['product']\n",
    "    \n",
    "    features_train, features_valid, target_train, target_valid = train_test_split(features, target, test_size=0.25, random_state=state)\n",
    "\n",
    "    # Train the model and make predictions \n",
    "    # Save predictions and correct answers\n",
    "    model = LinearRegression()\n",
    "    model.fit(features_train, target_train)\n",
    "    \n",
    "    pred_valid = model.predict(features_valid)\n",
    "    \n",
    "    # Print the average volume of predicted reserves and model RMSE\n",
    "    avg_vol_pred = round(pred_valid.mean(), 2)\n",
    "    print(f'Average volume of predicted reserves: {avg_vol_pred}')\n",
    "    \n",
    "    rmse = round(mean_squared_error(target_valid, pred_valid) ** 0.5, 2)\n",
    "    print(f'RMSE: {rmse}')\n",
    "\n",
    "    return target_valid, pred_valid, avg_vol_pred, rmse"
   ]
  },
  {
   "cell_type": "code",
   "execution_count": 14,
   "id": "55c709b8-e372-4d74-9e00-39008e7bf7f6",
   "metadata": {},
   "outputs": [
    {
     "name": "stdout",
     "output_type": "stream",
     "text": [
      "Average volume of predicted reserves: 92.59\n",
      "RMSE: 37.58\n"
     ]
    }
   ],
   "source": [
    "# Region 0\n",
    "target_valid_r0, pred_valid_r0, avg_vol_pred_r0, rmse_r0 = model_training(df_region_0)"
   ]
  },
  {
   "cell_type": "code",
   "execution_count": 15,
   "id": "e7fa3809-c220-49c3-b939-b58e58879704",
   "metadata": {},
   "outputs": [
    {
     "name": "stdout",
     "output_type": "stream",
     "text": [
      "Average volume of predicted reserves: 68.77\n",
      "RMSE: 0.89\n"
     ]
    }
   ],
   "source": [
    "# Region 1\n",
    "target_valid_r1, pred_valid_r1, avg_vol_pred_r1, rmse_r1 = model_training(df_region_1)"
   ]
  },
  {
   "cell_type": "code",
   "execution_count": 16,
   "id": "86b52f07-806d-4f64-8845-201fecbee32b",
   "metadata": {},
   "outputs": [
    {
     "name": "stdout",
     "output_type": "stream",
     "text": [
      "Average volume of predicted reserves: 95.09\n",
      "RMSE: 39.96\n"
     ]
    }
   ],
   "source": [
    "# Region 2\n",
    "target_valid_r2, pred_valid_r2, avg_vol_pred_r2, rmse_r2 = model_training(df_region_2)"
   ]
  },
  {
   "cell_type": "markdown",
   "id": "77d25e72-fe78-4ff4-a617-cfcd44aebd51",
   "metadata": {},
   "source": [
    "We create a function for model training to split data, train our model using Linear Regression, and return the data that we need. For each region, we print the average volume of predicted reserves as well as the RMSE value.\n",
    "\n",
    "Regions 0 and 2 show similar outcomes with high average volumes of predicted reserves, but also high predicted RMSE values. In general, we want MSE/RMSE metrics to be as low as possible. Region 1 shows the lowest RMSE value to date."
   ]
  },
  {
   "cell_type": "markdown",
   "id": "ce2df2ee-3c69-45cb-afb3-ac3d9d24b6f4",
   "metadata": {},
   "source": [
    "### Prepare data for profit calculation"
   ]
  },
  {
   "cell_type": "code",
   "execution_count": 26,
   "id": "12de759b-f1f4-4623-bba4-774fba00829d",
   "metadata": {},
   "outputs": [
    {
     "name": "stdout",
     "output_type": "stream",
     "text": [
      "Volume of reserves to be profitable: 111.11\n",
      "Average volume of predicted reserves for Region 0: 92.59\n",
      "Average volume of predicted reserves for Region 1: 68.77\n",
      "Average volume of predicted reserves for Region 2: 95.09\n"
     ]
    }
   ],
   "source": [
    "# Store all key values for calculations in separate values\n",
    "N_OF_WELLS = 200\n",
    "TOTAL_BUDGET = 1e8\n",
    "BUDGET_PER_WELL = TOTAL_BUDGET / N_OF_WELLS\n",
    "N_OF_RESERVES = 1000\n",
    "REVENUE_PER_BARREL = 4.5\n",
    "REVENUE_PER_UNIT_OF_PRODUCT = REVENUE_PER_BARREL * N_OF_RESERVES\n",
    "N_OF_SAMPLES = 500\n",
    "RISK_OF_LOSS_MAX = 2.5\n",
    "\n",
    "# Calculate the volume of reserves sufficient for developing a new well w/out loses\n",
    "volume_of_reserves = BUDGET_PER_WELL / REVENUE_PER_UNIT_OF_PRODUCT\n",
    "print(f'Volume of reserves to be profitable: {volume_of_reserves:.2f}')\n",
    "\n",
    "# Compare the obtained value w/ the average volume of reserves in each region\n",
    "print(f'Average volume of predicted reserves for Region 0: {avg_vol_pred_r0}')\n",
    "print(f'Average volume of predicted reserves for Region 1: {avg_vol_pred_r1}')\n",
    "print(f'Average volume of predicted reserves for Region 2: {avg_vol_pred_r2}')"
   ]
  },
  {
   "cell_type": "markdown",
   "id": "50ddd203-a49d-48a2-a363-47947cc996ab",
   "metadata": {},
   "source": [
    "Next, we prepare additional data for profit calculation, calculate the volume of reserves in order to be profitable, and finally compare that number to the predicted volume of reserves per region.\n",
    "\n",
    "Based on our calcuations, we see that Regions 0 and 2 come closest to the target volume of reserves for profitability (approx. 111,000), while the average volume prediction is lowest for Region 1."
   ]
  },
  {
   "cell_type": "markdown",
   "id": "04ef3723-4a1b-4a9b-b707-e782d203d159",
   "metadata": {},
   "source": [
    "### Function for profit calculation"
   ]
  },
  {
   "cell_type": "code",
   "execution_count": 18,
   "id": "cf3ee2bb-206e-47d5-9443-0c68be56faba",
   "metadata": {},
   "outputs": [],
   "source": [
    "def profit_calculation(target, predictions):\n",
    "    target = pd.Series(target).reset_index(drop=True)\n",
    "    predictions = pd.Series(predictions).reset_index(drop=True)\n",
    "    \n",
    "    # Get wells with the highest predictions values\n",
    "    top_wells = predictions.sort_values(ascending=False)[:N_OF_WELLS].index\n",
    "    \n",
    "    # Calculate sum of product volume from top wells\n",
    "    total_reserves = target.loc[top_wells].sum()\n",
    "\n",
    "    # Calculate revenue\n",
    "    revenue = total_reserves * REVENUE_PER_UNIT_OF_PRODUCT\n",
    "\n",
    "    # Calculate profit    \n",
    "    profit = revenue - TOTAL_BUDGET\n",
    "\n",
    "    return round(profit, 2)"
   ]
  },
  {
   "cell_type": "code",
   "execution_count": 19,
   "id": "f9d5d0ed-3097-4675-80df-5c0d320fbc73",
   "metadata": {},
   "outputs": [
    {
     "data": {
      "text/plain": [
       "33208260.43"
      ]
     },
     "execution_count": 19,
     "metadata": {},
     "output_type": "execute_result"
    }
   ],
   "source": [
    "# Region 0\n",
    "profit_calculation(target_valid_r0, pred_valid_r0)"
   ]
  },
  {
   "cell_type": "code",
   "execution_count": 20,
   "id": "6b91192e-ea1d-42e4-8b30-4c16458d6205",
   "metadata": {},
   "outputs": [
    {
     "data": {
      "text/plain": [
       "24150866.97"
      ]
     },
     "execution_count": 20,
     "metadata": {},
     "output_type": "execute_result"
    }
   ],
   "source": [
    "# Region 1\n",
    "profit_calculation(target_valid_r1, pred_valid_r1)"
   ]
  },
  {
   "cell_type": "code",
   "execution_count": 21,
   "id": "5dd3b32d-7a7b-475d-911b-7e62716edf79",
   "metadata": {},
   "outputs": [
    {
     "data": {
      "text/plain": [
       "25399159.46"
      ]
     },
     "execution_count": 21,
     "metadata": {},
     "output_type": "execute_result"
    }
   ],
   "source": [
    "# Region 2\n",
    "profit_calculation(target_valid_r2, pred_valid_r2)"
   ]
  },
  {
   "cell_type": "markdown",
   "id": "9c2d16c6-782d-41a9-8c8f-907d565fc0e0",
   "metadata": {},
   "source": [
    "Next, we create a function for calculating profit per region.\n",
    "\n",
    "Based on our calculations, Region 0 has the highest predicted profit based on its volumes of reserves ($33.2 million). Without checking for risk of losses, Region 0 would be our current recommendation for new oil well development. Based on the remaining order of predicted profits, Region 2, and then Region 1, would follow.\n"
   ]
  },
  {
   "cell_type": "markdown",
   "id": "0c00aa53-2841-4176-bdec-05b804f70750",
   "metadata": {},
   "source": [
    "### Calculate risks and profit (per region)"
   ]
  },
  {
   "cell_type": "code",
   "execution_count": 22,
   "id": "ab9c0537-318c-4ef0-b535-b6c7d606383f",
   "metadata": {
    "scrolled": true
   },
   "outputs": [],
   "source": [
    "state = np.random.RandomState(12345)\n",
    "\n",
    "def bootstrap_analysis(target, predictions):\n",
    "    target = pd.Series(target).reset_index(drop=True)\n",
    "    predictions = pd.Series(predictions).reset_index(drop=True)\n",
    "    \n",
    "    values = []\n",
    "    \n",
    "    # Calculate profit to determine average profit for n of wells\n",
    "    # to calculate loss via 1000 repetitions\n",
    "    for i in range(1000):\n",
    "        target_subsample = target.sample(n=N_OF_SAMPLES, replace=True, random_state=state)\n",
    "        pred_subsample = predictions[target_subsample.index]\n",
    "        profit_subsample = profit_calculation(target_subsample, pred_subsample)\n",
    "        values.append(profit_subsample)\n",
    "    \n",
    "    values = pd.Series(values)\n",
    "    \n",
    "    # To calculate a 95% confidence interval, take 2.5% from both lower and upper ends of the interval\n",
    "    lower = round(values.quantile(0.025), 2)\n",
    "    upper = round(values.quantile(0.975), 2)\n",
    "    \n",
    "    print(f'2.5% quantile: {lower}')\n",
    "    print(f'97.5% quantile: {upper}')\n",
    "    \n",
    "    # Calculate the mean of the sample\n",
    "    mean = round(values.mean(), 2)\n",
    "    \n",
    "    print(f'Average revenue: {mean}')\n",
    "    \n",
    "    # Determine how many of the values have no profit to calculate the probability \n",
    "    # that profit will be negative as a risk of loss percentage\n",
    "    risk_of_losses = round((values < 0).mean() * 100, 2)\n",
    "\n",
    "    print(f'Risk of losses: {risk_of_losses}%')\n",
    "\n",
    "    risk_of_losses_threshold = risk_of_losses < RISK_OF_LOSS_MAX\n",
    "\n",
    "    print(f'Is the risk of losses lower than our 2.5% threshold? {risk_of_losses_threshold}')\n",
    "\n",
    "    return lower, upper, mean, risk_of_losses"
   ]
  },
  {
   "cell_type": "code",
   "execution_count": 23,
   "id": "ad052bbb-b1c1-4d62-b82c-ed11e7c42974",
   "metadata": {},
   "outputs": [
    {
     "name": "stdout",
     "output_type": "stream",
     "text": [
      "2.5% quantile: -1112155.46\n",
      "97.5% quantile: 9097669.41\n",
      "Average revenue: 3961649.85\n",
      "Risk of losses: 6.9%\n",
      "Is the risk of losses lower than our 2.5% threshold? False\n"
     ]
    },
    {
     "data": {
      "text/plain": [
       "(-1112155.46, 9097669.41, 3961649.85, 6.9)"
      ]
     },
     "execution_count": 23,
     "metadata": {},
     "output_type": "execute_result"
    }
   ],
   "source": [
    "# Region 0\n",
    "bootstrap_analysis(target_valid_r0, pred_valid_r0)"
   ]
  },
  {
   "cell_type": "code",
   "execution_count": 24,
   "id": "d34fe8b8-3c30-40d3-847c-4512e9c7af14",
   "metadata": {},
   "outputs": [
    {
     "name": "stdout",
     "output_type": "stream",
     "text": [
      "2.5% quantile: 558019.31\n",
      "97.5% quantile: 8310233.31\n",
      "Average revenue: 4428504.06\n",
      "Risk of losses: 1.6%\n",
      "Is the risk of losses lower than our 2.5% threshold? True\n"
     ]
    },
    {
     "data": {
      "text/plain": [
       "(558019.31, 8310233.31, 4428504.06, 1.6)"
      ]
     },
     "execution_count": 24,
     "metadata": {},
     "output_type": "execute_result"
    }
   ],
   "source": [
    "# Region 1\n",
    "bootstrap_analysis(target_valid_r1, pred_valid_r1)"
   ]
  },
  {
   "cell_type": "code",
   "execution_count": 25,
   "id": "dce34ba6-4ceb-4e79-982d-89a0f5e438bf",
   "metadata": {},
   "outputs": [
    {
     "name": "stdout",
     "output_type": "stream",
     "text": [
      "2.5% quantile: -1975473.57\n",
      "97.5% quantile: 8360618.51\n",
      "Average revenue: 3447634.88\n",
      "Risk of losses: 10.8%\n",
      "Is the risk of losses lower than our 2.5% threshold? False\n"
     ]
    },
    {
     "data": {
      "text/plain": [
       "(-1975473.57, 8360618.51, 3447634.88, 10.8)"
      ]
     },
     "execution_count": 25,
     "metadata": {},
     "output_type": "execute_result"
    }
   ],
   "source": [
    "# Region 2\n",
    "bootstrap_analysis(target_valid_r2, pred_valid_r2)"
   ]
  },
  {
   "cell_type": "markdown",
   "id": "cb8991e2-4bff-449a-a4ba-15314500a63d",
   "metadata": {},
   "source": [
    "For our final task, we need to take into account both profits and risks per region in calculating predictions. Using our function, which incorporates Bootstrapping for a 95% confidence interval, we find Region 1 now in the lead for the best suggestion for well development (with a predicted $4.1 million average revenue and risk of losses at 1.6%).\n",
    "\n",
    "The risk evaluation for Regions 0 and 2, which both have predicted risks of losses higher than our 2.5% threshold, automatically disqualifies them from our criteria.\n"
   ]
  },
  {
   "cell_type": "markdown",
   "id": "525dbb71-0b19-4fe9-ae39-598e92cf3f9c",
   "metadata": {},
   "source": [
    "## Conclusion\n",
    "\n",
    "Based on profit calculation and model predictions alone, Region 0 would have the highest predicted profit based on its volumes of reserve.\n",
    "\n",
    "However, after adding risks in addition to profit into our calculations, Region 1, with the highest predicted revenue at $4.1 million average and lowest risk of losses at 1.6% (well below our 2.5% threshold) is our top and final suggestion to the company as to the best location for new oil well development."
   ]
  }
 ],
 "metadata": {
  "kernelspec": {
   "display_name": "Python 3 (ipykernel)",
   "language": "python",
   "name": "python3"
  },
  "language_info": {
   "codemirror_mode": {
    "name": "ipython",
    "version": 3
   },
   "file_extension": ".py",
   "mimetype": "text/x-python",
   "name": "python",
   "nbconvert_exporter": "python",
   "pygments_lexer": "ipython3",
   "version": "3.9.5"
  },
  "toc": {
   "base_numbering": 1,
   "nav_menu": {},
   "number_sections": true,
   "sideBar": true,
   "skip_h1_title": true,
   "title_cell": "Table of Contents",
   "title_sidebar": "Contents",
   "toc_cell": false,
   "toc_position": {},
   "toc_section_display": true,
   "toc_window_display": false
  }
 },
 "nbformat": 4,
 "nbformat_minor": 5
}
